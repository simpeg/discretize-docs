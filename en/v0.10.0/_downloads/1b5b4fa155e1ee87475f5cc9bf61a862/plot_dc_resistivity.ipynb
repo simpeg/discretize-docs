{
  "cells": [
    {
      "cell_type": "markdown",
      "metadata": {},
      "source": [
        "\n# Basic Forward 2D DC Resistivity\n\n2D DC forward modeling example with Tensor and Curvilinear Meshes\n"
      ]
    },
    {
      "cell_type": "code",
      "execution_count": null,
      "metadata": {
        "collapsed": false
      },
      "outputs": [],
      "source": [
        "import discretize\nfrom pymatsolver import SolverLU\nimport numpy as np\nimport matplotlib.pyplot as plt\n\n\ndef run(plotIt=True):\n    # Step1: Generate Tensor and Curvilinear Mesh\n    sz = [40, 40]\n    tM = discretize.TensorMesh(sz)\n    rM = discretize.CurvilinearMesh(\n        discretize.utils.example_curvilinear_grid(sz, \"rotate\")\n    )\n\n    # Step2: Direct Current (DC) operator\n    def DCfun(mesh, pts):\n        D = mesh.face_divergence\n        sigma = 1e-2 * np.ones(mesh.nC)\n        MsigI = mesh.get_face_inner_product(\n            sigma, invert_model=True, invert_matrix=True\n        )\n        A = -D * MsigI * D.T\n        A[-1, -1] /= mesh.cell_volumes[-1]  # Remove null space\n        rhs = np.zeros(mesh.nC)\n        txind = discretize.utils.closest_points_index(mesh, pts)\n        rhs[txind] = np.r_[1, -1]\n        return A, rhs\n\n    pts = np.vstack((np.r_[0.25, 0.5], np.r_[0.75, 0.5]))\n\n    # Step3: Solve DC problem (LU solver)\n    AtM, rhstM = DCfun(tM, pts)\n    AinvtM = SolverLU(AtM)\n    phitM = AinvtM * rhstM\n\n    ArM, rhsrM = DCfun(rM, pts)\n    AinvrM = SolverLU(ArM)\n    phirM = AinvrM * rhsrM\n\n    if not plotIt:\n        return\n\n    # Step4: Making Figure\n    fig, axes = plt.subplots(1, 2, figsize=(12 * 1.2, 4 * 1.2))\n    vmin, vmax = phitM.min(), phitM.max()\n\n    dat = tM.plot_image(phitM, ax=axes[0], clim=(vmin, vmax), grid=True)\n    cb0 = plt.colorbar(dat[0], ax=axes[0])\n    cb0.set_label(\"Voltage (V)\")\n    axes[0].set_title(\"TensorMesh\")\n\n    dat = rM.plot_image(phirM, ax=axes[1], clim=(vmin, vmax), grid=True)\n    cb1 = plt.colorbar(dat[0], ax=axes[1])\n    cb1.set_label(\"Voltage (V)\")\n    axes[1].set_title(\"CurvilinearMesh\")\n\n\nif __name__ == \"__main__\":\n    run()\n    plt.show()"
      ]
    }
  ],
  "metadata": {
    "kernelspec": {
      "display_name": "Python 3",
      "language": "python",
      "name": "python3"
    },
    "language_info": {
      "codemirror_mode": {
        "name": "ipython",
        "version": 3
      },
      "file_extension": ".py",
      "mimetype": "text/x-python",
      "name": "python",
      "nbconvert_exporter": "python",
      "pygments_lexer": "ipython3",
      "version": "3.10.13"
    }
  },
  "nbformat": 4,
  "nbformat_minor": 0
}