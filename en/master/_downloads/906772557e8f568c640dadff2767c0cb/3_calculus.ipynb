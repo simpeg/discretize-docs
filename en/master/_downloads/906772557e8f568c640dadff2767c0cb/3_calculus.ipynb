{
  "cells": [
    {
      "cell_type": "code",
      "execution_count": null,
      "metadata": {
        "collapsed": false
      },
      "outputs": [],
      "source": [
        "%matplotlib inline"
      ]
    },
    {
      "cell_type": "markdown",
      "metadata": {},
      "source": [
        "\nDifferential Operators\n======================\n\nWhen solving PDEs using the finite volume approach, inner products may\ncontain differential operators. Where $\\psi$ and $\\phi$ are\nscalar quantities, and $\\vec{u}$ and $\\vec{v}$ are vector\nquantities, we may need to derive a discrete approximation for the following\ninner products:\n\n    1. $(\\vec{u} , \\nabla \\phi)$\n    2. $(\\psi , \\nabla \\cdot \\vec{v})$\n    3. $(\\vec{u} , \\nabla \\times \\vec{v})$\n    4. $(\\psi, \\Delta^2 \\phi)$\n\nIn this section, we demonstrate how to go from the inner product to the\ndiscrete approximation for each case. In doing so, we must construct\ndiscrete differential operators, inner product matricies and consider\nboundary conditions.\n    \n"
      ]
    },
    {
      "cell_type": "markdown",
      "metadata": {},
      "source": [
        "Import Packages\n---------------\n\nHere we import the packages required for this tutorial\n\n\n"
      ]
    },
    {
      "cell_type": "code",
      "execution_count": null,
      "metadata": {
        "collapsed": false
      },
      "outputs": [],
      "source": [
        "from discretize.utils import sdiag\nfrom discretize import TensorMesh\nimport numpy as np\nimport matplotlib.pyplot as plt"
      ]
    },
    {
      "cell_type": "markdown",
      "metadata": {},
      "source": [
        "Gradient\n--------\n\nWhere $\\phi$ is a scalar quantity and $\\vec{u}$ is a vector\nquantity, we would like to evaluate the following inner product:\n\n\\begin{align}(\\vec{u} , \\nabla \\phi) = \\int_\\Omega \\vec{u} \\cdot \\nabla \\phi \\, dv\\end{align}\n\n**Inner Product at edges:**\n\nIn the case that $\\vec{u}$ represents a field, it is natural for it to\nbe discretized to live on cell edges. By defining $\\phi$ to live at\nthe nodes, we can use the nodal gradient operator ($\\mathbf{G_n}$) to\nmap from nodes to edges. The inner product is therefore computed using an\ninner product matrix ($\\mathbf{M_e}$) for\nquantities living on cell edges, e.g.:\n\n\\begin{align}(\\vec{u} , \\nabla \\phi) \\approx \\mathbf{u^T M_e G_n \\phi}\\end{align}\n\n**Inner Product at faces:**\n\nIn the case that $\\vec{u}$ represents a flux, it is natural for it to\nbe discretized to live on cell faces. By defining $\\phi$ to live at\ncell centers, we can use the cell gradient operator ($\\mathbf{G_c}$) to\nmap from centers to faces. In this case, we must impose boundary conditions\non the discrete gradient operator because it cannot use locations outside\nthe mesh to evaluate the gradient on the boundary. If done correctly, the\ninner product is computed using an inner product matrix ($\\mathbf{M_f}$)\nfor quantities living on cell faces, e.g.:\n\n\\begin{align}(\\vec{u} , \\nabla \\phi) \\approx \\mathbf{u^T M_f G_c \\phi}\\end{align}\n\n\n"
      ]
    },
    {
      "cell_type": "code",
      "execution_count": null,
      "metadata": {
        "collapsed": false
      },
      "outputs": [],
      "source": [
        "# Make basic mesh\nh = np.ones(10)\nmesh = TensorMesh([h, h, h])\n\n# Items required to perform u.T*(Me*Gn*phi)\nMe = mesh.getEdgeInnerProduct()  # Basic inner product matrix (edges)\nGn = mesh.nodalGrad              # Nodes to edges gradient\n\n# Items required to perform u.T*(Mf*Gc*phi)\nMf = mesh.getFaceInnerProduct()  # Basic inner product matrix (faces)\nmesh.setCellGradBC(['neumann', 'dirichlet', 'neumann'])  # Set boundary conditions\nGc = mesh.cellGrad               # Cells to faces gradient\n\n# Plot Sparse Representation\nfig = plt.figure(figsize=(5, 6))\n\nax1 = fig.add_subplot(121)\nax1.spy(Me*Gn, markersize=0.5)\nax1.set_title('Me*Gn')\n\nax2 = fig.add_subplot(122)\nax2.spy(Mf*Gc, markersize=0.5)\nax2.set_title('Mf*Gc')"
      ]
    },
    {
      "cell_type": "markdown",
      "metadata": {},
      "source": [
        "Divergence\n----------\n\nWhere $\\psi$ is a scalar quantity and $\\vec{v}$ is a vector\nquantity, we would like to evaluate the following inner product:\n\n\\begin{align}(\\psi , \\nabla \\cdot \\vec{v}) = \\int_\\Omega \\psi \\nabla \\cdot \\vec{v} \\, dv\\end{align}\n\nThe divergence defines a measure of the flux leaving/entering a volume. As a\nresult, it is natural for $\\vec{v}$ to be a flux defined on cell faces.\nThe face divergence operator ($\\mathbf{D}$) maps from cell faces to\ncell centers, therefore # we should define $\\psi$ at cell centers. The \ninner product is ultimately computed using an inner product matrix\n($\\mathbf{M_f}$) for quantities living on cell faces, e.g.:\n\n\\begin{align}(\\psi , \\nabla \\cdot \\vec{v}) \\approx \\mathbf{\\psi^T} \\textrm{diag} (\\mathbf{vol} ) \\mathbf{D v}\\end{align}\n\n\n"
      ]
    },
    {
      "cell_type": "code",
      "execution_count": null,
      "metadata": {
        "collapsed": false
      },
      "outputs": [],
      "source": [
        "# Make basic mesh\nh = np.ones(10)\nmesh = TensorMesh([h, h, h])\n\n# Items required to perform psi.T*(Mc*D*v)\nMc = sdiag(mesh.vol)             # Basic inner product matrix (centers)\nD = mesh.faceDiv                 # Faces to centers divergence\n\n# Plot sparse representation\nfig = plt.figure(figsize=(8, 5))\n\nax1 = fig.add_subplot(111)\nax1.spy(Mc*D, markersize=0.5)\nax1.set_title('Mc*D', pad=20)"
      ]
    },
    {
      "cell_type": "markdown",
      "metadata": {},
      "source": [
        "Curl\n----\n\nWhere $\\vec{u}$ and $\\vec{v}$ are vector quantities, we would\nlike to evaluate the following inner product:\n\n\\begin{align}(\\vec{u} , \\nabla \\times \\vec{v}) = \\int_\\Omega \\vec{u} \\nabla \\times \\vec{v} \\, dv\\end{align}\n\n**Inner Product at Faces:**\n\nLet $\\vec{u}$ denote a flux and let $\\vec{v}$ denote a field. \nIn this case, it is natural for the flux $\\vec{u}$ to live on cell\nfaces and for the field $\\vec{v}$ to live on cell edges. The discrete\ncurl operator ($\\mathbf{C_e}$) in this case naturally maps from cell\nedges to cell faces without the need to define boundary conditions. The\ninner product can be approxiated using an inner product matrix\n($\\mathbf{M_f}$) for quantities living on cell faces, e.g.:\n\n\\begin{align}(\\vec{u} , \\nabla \\times \\vec{v}) \\approx \\mathbf{u^T M_f C_e v}\\end{align}\n\n**Inner Product at Edges:**\n\nNow let $\\vec{u}$ denote a field and let $\\vec{v}$ denote a flux. \nNow it is natural for the $\\vec{u}$ to live on cell edges\nand for $\\vec{v}$ to live on cell faces. We would like to compute the\ninner product using an inner product matrix ($\\mathbf{M_e}$) for\nquantities living on cell edges. However, this requires a discrete curl\noperator ($\\mathbf{C_f}$) that maps from cell faces\nto cell edges; which requires to impose boundary conditions on the operator.\nIf done successfully:\n\n\\begin{align}(\\vec{u} , \\nabla \\times \\vec{v}) \\approx \\mathbf{u^T M_e C_f v}\\end{align}\n\n\n"
      ]
    },
    {
      "cell_type": "code",
      "execution_count": null,
      "metadata": {
        "collapsed": false
      },
      "outputs": [],
      "source": [
        "# Make basic mesh\nh = np.ones(10)\nmesh = TensorMesh([h, h, h])\n\n# Items required to perform u.T*(Mf*Ce*v)\nMf = mesh.getFaceInnerProduct()  # Basic inner product matrix (faces)\nCe = mesh.edgeCurl               # Edges to faces curl\n\n# Items required to perform u.T*(Me*Cf*v)\nMe = mesh.getEdgeInnerProduct()  # Basic inner product matrix (edges)\nCf = mesh.edgeCurl.T             # Faces to edges curl (assumes Dirichlet)\n    \n# Plot Sparse Representation\nfig = plt.figure(figsize=(9, 5))\n\nax1 = fig.add_subplot(121)\nax1.spy(Mf*Ce, markersize=0.5)\nax1.set_title('Mf*Ce', pad=10)\n\nax2 = fig.add_subplot(122)\nax2.spy(Me*Cf, markersize=0.5)\nax2.set_title('Me*Cf', pad=10)"
      ]
    },
    {
      "cell_type": "markdown",
      "metadata": {},
      "source": [
        "Scalar Laplacian\n----------------\n\nWhere $\\psi$ and $\\phi$ are scalar quantities, and the scalar\nLaplacian $\\Delta^2 = \\nabla \\cdot \\nabla$, we would like to\napproximate the following inner product:\n\n\\begin{align}(\\psi , \\nabla \\cdot \\nabla \\phi) = \\int_\\Omega \\psi (\\nabla \\cdot \\nabla \\phi) \\, dv\\end{align}\n\nUsing $p \\nabla \\cdot \\mathbf{q} = \\nabla \\cdot (p \\mathbf{q}) - \\mathbf{q} \\cdot (\\nabla p )$\nand the Divergence theorem we obtain:\n\n\\begin{align}\\int_{\\partial \\Omega} \\mathbf{n} \\cdot ( \\psi \\nabla \\phi ) \\, da\n    - \\int_\\Omega (\\nabla \\psi ) \\cdot (\\nabla \\phi ) \\, dv\\end{align}\n\nIn this case, the surface integral can be eliminated if we can assume a\nNeumann condition of $\\partial \\phi/\\partial n = 0$ on the boundary.\n\n**Inner Prodcut at Edges:**\n\nLet $\\psi$ and $\\phi$ be discretized to the nodes. In this case,\nthe discrete gradient operator ($\\mathbf{G_n}$) must map from nodes\nto edges. Ultimately we evaluate the inner product using an inner product\nmatrix ($\\mathbf{M_e}$ for quantities living on cell edges, e.g.:\n\n\\begin{align}(\\psi , \\nabla \\cdot \\nabla \\phi) \\approx \\mathbf{\\psi G_n^T M_e G_n \\phi}\\end{align}\n\n**Inner Product at Faces:**\n\nLet $\\psi$ and $\\phi$ be discretized to cell centers. In this\ncase, the discrete gradient operator ($\\mathbf{G_c}$) must map from\ncenters to faces; and requires the user to set Neumann conditions in the\noperator. Ultimately we evaluate the inner product using an inner product\nmatrix ($\\mathbf{M_f}$) for quantities living on cell faces, e.g.:\n\n\\begin{align}(\\psi , \\nabla \\cdot \\nabla \\phi) \\approx \\mathbf{\\psi G_c^T M_f G_c \\phi}\\end{align}\n\n\n\n"
      ]
    },
    {
      "cell_type": "code",
      "execution_count": null,
      "metadata": {
        "collapsed": false
      },
      "outputs": [],
      "source": [
        "# Make basic mesh\nh = np.ones(10)\nmesh = TensorMesh([h, h, h])\n\n# Items required to perform psi.T*(Gn.T*Me*Gn*phi)\nMe = mesh.getEdgeInnerProduct()  # Basic inner product matrix (edges)\nGn = mesh.nodalGrad              # Nodes to edges gradient\n\n# Items required to perform psi.T*(Gc.T*Mf*Gc*phi)\nMf = mesh.getFaceInnerProduct()  # Basic inner product matrix (faces)\nmesh.setCellGradBC(['dirichlet','dirichlet','dirichlet'])\nGc = mesh.cellGrad            # Centers to faces gradient\n\n# Plot Sparse Representation\nfig = plt.figure(figsize=(9, 4))\n\nax1 = fig.add_subplot(121)\nax1.spy(Gn.T*Me*Gn, markersize=0.5)\nax1.set_title('Gn.T*Me*Gn', pad=5)\n\nax2 = fig.add_subplot(122)\nax2.spy(Gc.T*Mf*Gc, markersize=0.5)\nax2.set_title('Gc.T*Mf*Gc', pad=5)"
      ]
    }
  ],
  "metadata": {
    "kernelspec": {
      "display_name": "Python 3",
      "language": "python",
      "name": "python3"
    },
    "language_info": {
      "codemirror_mode": {
        "name": "ipython",
        "version": 3
      },
      "file_extension": ".py",
      "mimetype": "text/x-python",
      "name": "python",
      "nbconvert_exporter": "python",
      "pygments_lexer": "ipython3",
      "version": "3.7.6"
    }
  },
  "nbformat": 4,
  "nbformat_minor": 0
}