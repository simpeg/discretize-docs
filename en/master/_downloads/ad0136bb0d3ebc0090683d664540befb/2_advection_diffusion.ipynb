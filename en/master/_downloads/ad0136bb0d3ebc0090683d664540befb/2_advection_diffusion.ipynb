{
  "cells": [
    {
      "cell_type": "code",
      "execution_count": null,
      "metadata": {
        "collapsed": false
      },
      "outputs": [],
      "source": [
        "%matplotlib inline"
      ]
    },
    {
      "cell_type": "markdown",
      "metadata": {},
      "source": [
        "\n# Advection-Diffusion Equation\n\nHere we use the discretize package to model the advection-diffusion\nequation. The goal of this tutorial is to demonstrate:\n\n    - How to solve time-dependent PDEs\n    - How to apply Neumann boundary conditions\n    - Strategies for applying finite volume to 2nd order PDEs\n\n\n## Derivation\n\nIf we assume the fluid is incompressible ($\\nabla \\cdot \\mathbf{u} = 0$),\nthe advection-diffusion equation with Neumann boundary conditions is given by:\n\n\\begin{align}p_t = \\nabla \\cdot \\alpha \\nabla p\n    - \\mathbf{u} \\cdot \\nabla p + s \n\n    \\textrm{s.t.} \\;\\;\\; \\frac{\\partial p}{\\partial n} \\Bigg |_{\\partial \\Omega} = 0\\end{align}\n\nwhere $p$ is the unknown variable, $\\alpha$ defines the\ndiffusivity within the domain, $\\mathbf{u}$ is the velocity field, and\n$s$ is the source term. We will consider the case where there is a single\npoint source within our domain. Thus:\n\n\\begin{align}s = s_0 \\delta ( \\mathbf{r} )\\end{align}\n\nwhere $s_0$ is a constant. To solve this problem numerically, we\nre-express the advection-diffusion equation as a set of first order PDEs:\n\n\\begin{align}\\; \\; p_t = \\nabla \\cdot \\mathbf{j} - \\mathbf{u} \\cdot \\mathbf{w} + s \\;\\;\\; (1)\n\n    \\; \\; \\mathbf{w} = \\nabla p \\;\\;\\; (2) \n\n    \\; \\; \\alpha^{-1} \\mathbf{j} = \\mathbf{w} \\;\\;\\; (3)\\end{align}\n\n\nWe then apply the weak formulation; that is, we\ntake the inner product of each equation with an appropriate test function.\n\n**Expression 1:**\n\nLet $\\psi$ be a scalar test function. By taking the inner product with\nexpression (1) we obtain:\n\n\\begin{align}\\int_\\Omega \\psi \\, p_t \\, dv =\n    \\int_\\Omega \\psi \\, (\\nabla \\cdot \\mathbf{j}) \\, dv\n    - \\int_\\Omega \\psi \\, \\big ( \\mathbf{u} \\cdot \\mathbf{w} \\big ) \\, dv\n    + s_0 \\int_\\Omega \\psi \\, \\delta (\\mathbf{r}) \\, dv\\end{align}\n\nThe source term is a volume integral containing the Dirac delta function, thus:\n\n\\begin{align}s_0 \\int_\\Omega \\psi \\, \\delta (\\mathbf{r}) \\, dv \\approx \\mathbf{\\psi^T \\, q}\\end{align}\n\nwhere $q=s_0$ for the cell containing the point source and zero everywhere\nelse. By evaluating the inner products according to the finite volume approach\nwe obtain:\n\n\\begin{align}\\mathbf{\\psi^T M_c p_t} = \\mathbf{\\psi^T M_c D \\, j}\n    - \\mathbf{\\psi^T M_c A_{fc}} \\, \\textrm{diag} ( \\mathbf{u} ) \\mathbf{w}\n    + \\mathbf{\\psi^T q}\\end{align}\n\nwhere $\\mathbf{\\psi}$, $\\mathbf{p}$ and $\\mathbf{p_t}$\nlive at cell centers and $\\mathbf{j}$, $\\mathbf{u}$ and\n$\\mathbf{w}$ live on cell faces. $\\mathbf{D}$\nis a discrete divergence operator. $\\mathbf{M_c}$ is the cell center\ninner product matrix. $\\mathbf{A_{fc}}$ takes the dot product of\n$\\mathbf{u}$ and $\\mathbf{w}$, projects it to cell centers and sums\nthe contributions by each Cartesian component.\n\n**Expression 2:**\n\nLet $\\mathbf{f}$ be a vector test function. By taking the inner product\nwith expression (2) we obtain:\n\n\\begin{align}\\int_\\Omega \\mathbf{f \\cdot w} \\, dv =\n    \\int_\\Omega \\mathbf{f \\cdot \\nabla}p \\, dv\\end{align}\n\nIf we use the identity\n$\\phi \\nabla \\cdot \\mathbf{a} = \\nabla \\cdot (\\phi \\mathbf{a}) - \\mathbf{a} \\cdot (\\nabla \\phi )$\nand apply the divergence theorem we obtain:\n\n\\begin{align}\\int_\\Omega \\mathbf{f \\cdot w} \\, dv =\n    \\int_{\\partial \\Omega} \\mathbf{n \\, \\cdot} \\, p \\mathbf{f} \\, da\n    - \\int_{\\Omega} p \\cdot \\nabla \\mathbf{f} \\, dv\\end{align}\n\nIf we assume that $f=0$ on the boundary, we can eliminate the surface\nintegral. By evaluating the inner products in the weak formulation according\nto the finite volume approach we obtain:\n\n\\begin{align}\\mathbf{f^T M_f w} = - \\mathbf{f^T D^T M_c}p\\end{align}\n\nwhere $\\mathbf{f}$ lives at cell faces and $\\mathbf{M_f}$ is\nthe face inner product matrix.\n\n**Expression 3:**\n\nLet $\\mathbf{f}$ be a vector test function. By taking the inner product\nwith expression (3) we obtain:\n\n\\begin{align}\\int_\\Omega \\mathbf{f} \\cdot \\alpha^{-1} \\mathbf{j} \\, dv =\n    \\int_\\Omega \\mathbf{f} \\cdot \\mathbf{w} \\, dv\\end{align}\n\nBy evaluating the inner products according to the finite volume approach\nwe obtain:\n\n\\begin{align}\\mathbf{f^T M_\\alpha \\, j} = \\mathbf{f^T M_f \\, w}\\end{align}\n\nwhere $\\mathbf{M_\\alpha}$ is a face inner product matrix that\ndepends on the inverse of the diffusivity.\n\n**Final Numerical System:**\n\nBy combining the set of discrete expressions and letting\n$\\mathbf{s} = \\mathbf{M_c^{-1} q}$, we obtain:\n\n\\begin{align}\\mathbf{p_t} =\n    - \\mathbf{D M_\\alpha^{-1} \\, D^T \\, M_c} \\, p\n    + \\mathbf{A_{fc}} \\, \\textrm{diag} ( \\mathbf{u} ) \\mathbf{M_f^{-1} D^T \\, M_c} p\n    + \\mathbf{s}\\end{align}\n\nSince the Neumann boundary condition is being used for the variable $p$,\nthe transpose of the divergence operator is the negative of the gradient\noperator with Neumann boundary conditions; e.g. $\\mathbf{D^T = -G}$. Thus:\n\n\\begin{align}\\mathbf{p_t} = - \\mathbf{M} \\mathbf{p} + \\mathbf{s}\\end{align}\n\nwhere\n\n\\begin{align}\\mathbf{M} = - \\mathbf{D M_\\alpha^{-1} \\, G \\, M_c} \\, p\n    + \\mathbf{A_{fc}} \\, \\textrm{diag} ( \\mathbf{u} ) \\mathbf{M_f^{-1} G \\, M_c} p\\end{align}\n\nFor the example, we will discretize in time using backward Euler. This results\nin the following system which must be solve at every time step $k$.\nWhere $\\Delta t$ is the step size:\n\n\\begin{align}\\big [ \\mathbf{I} + \\Delta t \\, \\mathbf{M} \\big ] \\mathbf{p}^{k+1} =\n    \\mathbf{p}^k + \\Delta t \\, \\mathbf{s}\\end{align}\n"
      ]
    },
    {
      "cell_type": "markdown",
      "metadata": {},
      "source": [
        "## Import Packages\n\nHere we import the packages required for this tutorial.\n\n\n"
      ]
    },
    {
      "cell_type": "code",
      "execution_count": null,
      "metadata": {
        "collapsed": false
      },
      "outputs": [],
      "source": [
        "from discretize import TensorMesh\nfrom pymatsolver import SolverLU\nimport matplotlib.pyplot as plt\nimport matplotlib as mpl\nimport numpy as np\nfrom discretize.utils import sdiag, mkvc"
      ]
    },
    {
      "cell_type": "markdown",
      "metadata": {},
      "source": [
        "## Solving the Problem\n\n\n"
      ]
    },
    {
      "cell_type": "code",
      "execution_count": null,
      "metadata": {
        "collapsed": false
      },
      "outputs": [],
      "source": [
        "# Create a tensor mesh\nh = np.ones(75)\nmesh = TensorMesh([h, h], \"CC\")\n\n# Define a divergence free vector field on faces\nfaces_x = mesh.gridFx\nfaces_y = mesh.gridFy\n\nr_x = np.sqrt(np.sum(faces_x ** 2, axis=1))\nr_y = np.sqrt(np.sum(faces_y ** 2, axis=1))\n\nux = 0.5 * (-faces_x[:, 1] / r_x) * (1 + np.tanh(0.15 * (28.0 - r_x)))\nuy = 0.5 * (faces_y[:, 0] / r_y) * (1 + np.tanh(0.15 * (28.0 - r_y)))\n\nu = 10.0 * np.r_[ux, uy]  # Maximum velocity is 10 m/s\n\n# Define vector q where s0 = 1 in our analytic source term\nxycc = mesh.gridCC\nk = (xycc[:, 0] == 0) & (xycc[:, 1] == -15)  # source at (0, -15)\n\nq = np.zeros(mesh.nC)\nq[k] = 1\n\n# Define diffusivity within each cell\na = mkvc(8.0 * np.ones(mesh.nC))\n\n# Define the matrix M\nAfc = mesh.dim * mesh.aveF2CC  # modified averaging operator to sum dot product\nMf_inv = mesh.getFaceInnerProduct(invMat=True)\nMc = sdiag(mesh.vol)\nMc_inv = sdiag(1 / mesh.vol)\nMf_alpha_inv = mesh.getFaceInnerProduct(a, invProp=True, invMat=True)\n\nmesh.setCellGradBC([\"neumann\", \"neumann\"])  # Set Neumann BC\nG = mesh.cellGrad\nD = mesh.faceDiv\n\nM = -D * Mf_alpha_inv * G * Mc + Afc * sdiag(u) * Mf_inv * G * Mc\n\n\n# Set time stepping, initial conditions and final matricies\ndt = 0.02  # Step width\np = np.zeros(mesh.nC)  # Initial conditions p(t=0)=0\n\nI = sdiag(np.ones(mesh.nC))  # Identity matrix\nB = I + dt * M\ns = Mc_inv * q\n\nBinv = SolverLU(B)\n\n\n# Plot the vector field\nfig = plt.figure(figsize=(15, 15))\nax = 9 * [None]\n\nax[0] = fig.add_subplot(332)\nmesh.plotImage(\n    u,\n    ax=ax[0],\n    v_type=\"F\",\n    view=\"vec\",\n    stream_opts={\"color\": \"w\", \"density\": 1.0},\n    clim=[0.0, 10.0],\n)\nax[0].set_title(\"Divergence free vector field\")\n\nax[1] = fig.add_subplot(333)\nax[1].set_aspect(10, anchor=\"W\")\ncbar = mpl.colorbar.ColorbarBase(ax[1], orientation=\"vertical\")\ncbar.set_label(\"Velocity (m/s)\", rotation=270, labelpad=5)\n\n# Perform backward Euler and plot\n\nn = 3\n\nfor ii in range(300):\n\n    p = Binv * (p + s)\n\n    if ii + 1 in (1, 25, 50, 100, 200, 300):\n        ax[n] = fig.add_subplot(3, 3, n + 1)\n        mesh.plotImage(p, v_type=\"CC\", ax=ax[n], pcolor_opts={\"cmap\": \"gist_heat_r\"})\n        title_str = \"p at t = \" + str((ii + 1) * dt) + \" s\"\n        ax[n].set_title(title_str)\n        n = n + 1"
      ]
    }
  ],
  "metadata": {
    "kernelspec": {
      "display_name": "Python 3",
      "language": "python",
      "name": "python3"
    },
    "language_info": {
      "codemirror_mode": {
        "name": "ipython",
        "version": 3
      },
      "file_extension": ".py",
      "mimetype": "text/x-python",
      "name": "python",
      "nbconvert_exporter": "python",
      "pygments_lexer": "ipython3",
      "version": "3.9.0"
    }
  },
  "nbformat": 4,
  "nbformat_minor": 0
}