{
  "cells": [
    {
      "cell_type": "code",
      "execution_count": null,
      "metadata": {
        "collapsed": false
      },
      "outputs": [],
      "source": [
        "%matplotlib inline"
      ]
    },
    {
      "cell_type": "markdown",
      "metadata": {},
      "source": [
        "\nCyl: Plot Grid\n================\n\nYou can use :code:`mesh.plotGrid()` to plot a z and theta slice through a\n3D cyl mesh.\n\nIf you wish to plot only one slice, you can use\n:code:`mesh.plotGrid(slice='z')` or :code:`mesh.plotGrid(slice='theta')`\n"
      ]
    },
    {
      "cell_type": "code",
      "execution_count": null,
      "metadata": {
        "collapsed": false
      },
      "outputs": [],
      "source": [
        "import discretize\nimport matplotlib.pyplot as plt\n\n\ndef run(plotIt=True):\n    mesh = discretize.CylMesh([7, 6, 10])\n    mesh.plotGrid()\n    # mesh.plotGrid(slice='z')\n    # mesh.plotGrid(slice='theta')\n\nif __name__ == '__main__':\n    run()\n    plt.show()"
      ]
    }
  ],
  "metadata": {
    "kernelspec": {
      "display_name": "Python 3",
      "language": "python",
      "name": "python3"
    },
    "language_info": {
      "codemirror_mode": {
        "name": "ipython",
        "version": 3
      },
      "file_extension": ".py",
      "mimetype": "text/x-python",
      "name": "python",
      "nbconvert_exporter": "python",
      "pygments_lexer": "ipython3",
      "version": "3.7.3"
    }
  },
  "nbformat": 4,
  "nbformat_minor": 0
}