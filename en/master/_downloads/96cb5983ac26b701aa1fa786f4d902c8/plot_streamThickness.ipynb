{
  "cells": [
    {
      "cell_type": "code",
      "execution_count": null,
      "metadata": {
        "collapsed": false
      },
      "outputs": [],
      "source": [
        "%matplotlib inline"
      ]
    },
    {
      "cell_type": "markdown",
      "metadata": {},
      "source": [
        "\nPlotting: Streamline thickness\n==============================\n\nA simple example to vary streamline thickness based on the vector amplitudes\n\nAuthor: `@micmitch <https://github.com/micmitch>`\n"
      ]
    },
    {
      "cell_type": "code",
      "execution_count": null,
      "metadata": {
        "collapsed": false
      },
      "outputs": [],
      "source": [
        "import numpy as np\nimport matplotlib.pyplot as plt\n\nfrom discretize import TensorMesh"
      ]
    },
    {
      "cell_type": "markdown",
      "metadata": {},
      "source": [
        "Create mesh\n-----------\n\nMinimum cell size in each direction\n\n"
      ]
    },
    {
      "cell_type": "code",
      "execution_count": null,
      "metadata": {
        "collapsed": false
      },
      "outputs": [],
      "source": [
        "dx = 1.\ndy = 1.\ndz = 1.\n\n# Number of core cells in each direction\nnCoreX = 43.\nnCoreY = 43.\nnCoreZ = 43.\n\n# Cell widths\nhx = [(dx,nCoreX)]\nhy = [(dy,nCoreY)]\nhz = [(dz,nCoreZ)]\n\n# Desired Core mesh origin (Bottom SW corner)\nx0 = -21.5\ny0 = -21.5\nz0 = -21.5\n\nmesh = TensorMesh([hx, hy, hz],[x0,y0,z0])\nprint(mesh.nC)"
      ]
    },
    {
      "cell_type": "markdown",
      "metadata": {},
      "source": [
        "Define arbitrary function to plot\n---------------------------------\n\n\n"
      ]
    },
    {
      "cell_type": "code",
      "execution_count": null,
      "metadata": {
        "collapsed": false
      },
      "outputs": [],
      "source": [
        "X = mesh.gridCC[:,0]\nY = mesh.gridCC[:,1]\nZ = mesh.gridCC[:,2]\n\nU = -1 - X**2 + Y + Z\nV = 1 + X - Y**2 + Z\nW = 1 + X + Y - Z**2"
      ]
    },
    {
      "cell_type": "markdown",
      "metadata": {},
      "source": [
        "Plot streamlines\n----------------\n\nCreate figure\n\n"
      ]
    },
    {
      "cell_type": "code",
      "execution_count": null,
      "metadata": {
        "collapsed": false
      },
      "outputs": [],
      "source": [
        "fig = plt.figure()\nax = plt.subplot(111)\nfig.set_figheight(15)\nfig.set_figwidth(15)\nlabelsize = 30.\nticksize = 30.\n\n# Create data vector\ndataVec = np.hstack([U,V,W])\nprint(dataVec.shape)\n\n# Set streamline plotting options\nstreamOpts = {'color':'w', 'density':2.0}\npcolorOpts = {\"cmap\":\"viridis\"}\n\ndat = mesh.plotSlice(\n    dataVec, ax=ax, normal='Z', ind=5, vType='CCv', view='vec',\n    streamOpts=streamOpts, gridOpts={\"color\":\"k\", \"alpha\":0.1}, grid=True,\n    clim=None, stream_thickness=3\n)"
      ]
    },
    {
      "cell_type": "markdown",
      "metadata": {},
      "source": [
        "Moving Forward\n--------------\n\nIf you have suggestions for improving this example, please create a\npull request on the example in discretize\n\n"
      ]
    }
  ],
  "metadata": {
    "kernelspec": {
      "display_name": "Python 3",
      "language": "python",
      "name": "python3"
    },
    "language_info": {
      "codemirror_mode": {
        "name": "ipython",
        "version": 3
      },
      "file_extension": ".py",
      "mimetype": "text/x-python",
      "name": "python",
      "nbconvert_exporter": "python",
      "pygments_lexer": "ipython3",
      "version": "3.7.3"
    }
  },
  "nbformat": 4,
  "nbformat_minor": 0
}