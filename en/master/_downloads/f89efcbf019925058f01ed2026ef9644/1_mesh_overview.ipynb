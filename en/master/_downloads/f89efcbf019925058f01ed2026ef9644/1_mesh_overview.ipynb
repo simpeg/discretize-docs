{
  "cells": [
    {
      "cell_type": "code",
      "execution_count": null,
      "metadata": {
        "collapsed": false
      },
      "outputs": [],
      "source": [
        "%matplotlib inline"
      ]
    },
    {
      "cell_type": "markdown",
      "metadata": {},
      "source": [
        "\nOverview of Mesh Types\n======================\n\nHere we provide an overview of mesh types and define some terminology.\nSeparate tutorials have been provided for each mesh type.\n"
      ]
    },
    {
      "cell_type": "code",
      "execution_count": null,
      "metadata": {
        "collapsed": false
      },
      "outputs": [],
      "source": [
        "import numpy as np\nimport discretize\nimport matplotlib.pyplot as plt"
      ]
    },
    {
      "cell_type": "markdown",
      "metadata": {},
      "source": [
        "General Categories of Meshes\n----------------------------\n\nThe three main types of meshes in discretize are\n\n   - **Tensor meshes** (:class:`discretize.TensorMesh`); which includes **cylindrical meshes** (:class:`discretize.CylMesh`)\n\n   - **Tree meshes** (:class:`discretize.TreeMesh`): also referred to as QuadTree or OcTree meshes\n\n   - **Curvilinear meshes** (:class:`discretize.CurviMesh`): also referred to as logically rectangular non-orthogonal\n\nExamples for each mesh type are shown below.\n\n\n"
      ]
    },
    {
      "cell_type": "code",
      "execution_count": null,
      "metadata": {
        "collapsed": false
      },
      "outputs": [],
      "source": [
        "ncx = 16  # number of cells in the x-direction\nncy = 16  # number of cells in the y-direction\n\n# create a tensor mesh\ntensor_mesh = discretize.TensorMesh([ncx, ncy])\n\n# create a tree mesh and refine some of the cells\ntree_mesh = discretize.TreeMesh([ncx, ncy])\n\n\ndef refine(cell):\n    if np.sqrt(((np.r_[cell.center]-0.5)**2).sum()) < 0.2:\n        return 4\n    return 2\n\ntree_mesh.refine(refine)\n\n# create a curvilinear mesh\ncurvi_mesh = discretize.CurvilinearMesh(\n    discretize.utils.exampleLrmGrid([ncx, ncy], 'rotate')\n)\n\n# Plot\nfig, axes = plt.subplots(1, 3, figsize=(14.5, 4))\ntensor_mesh.plotGrid(ax=axes[0])\naxes[0].set_title('TensorMesh')\n\ntree_mesh.plotGrid(ax=axes[1])\naxes[1].set_title('TreeMesh')\n\ncurvi_mesh.plotGrid(ax=axes[2])\naxes[2].set_title('CurvilinearMesh')"
      ]
    },
    {
      "cell_type": "markdown",
      "metadata": {},
      "source": [
        "Variable Locations and Terminology\n----------------------------------\n\nWhen solving differential equations on a numerical grid, variables can be\ndefined on:\n\n   - nodes\n   - cell centers\n   - cell faces\n   - cell edges\n\nBelow we show an example for a 2D tensor mesh.\n\n\n"
      ]
    },
    {
      "cell_type": "code",
      "execution_count": null,
      "metadata": {
        "collapsed": false
      },
      "outputs": [],
      "source": [
        "hx = np.r_[3, 1, 1, 3]\nhy = np.r_[3, 2, 1, 1, 1, 1, 2, 3]\ntensor_mesh2 = discretize.TensorMesh([hx, hy])\n\n# Plot\nfig, axes2 = plt.subplots(1, 3, figsize=(14.5, 5))\ntensor_mesh2.plotGrid(ax=axes2[0], nodes=True, centers=True)\naxes2[0].legend(('Nodes', 'Centers'))\naxes2[0].set_title('Nodes and cell centers')\n\ntensor_mesh2.plotGrid(ax=axes2[1], edges=True)\naxes2[1].legend(('X-edges', 'Y-edges'))\naxes2[1].set_title('Cell edges')\n\ntensor_mesh2.plotGrid(ax=axes2[2], faces=True)\naxes2[2].legend(('X-faces', 'Y-faces'))\naxes2[2].set_title('Cell faces')"
      ]
    },
    {
      "cell_type": "markdown",
      "metadata": {},
      "source": [
        "Note that we define X-edges as being edges that lie parallel to the x-axis.\nAnd we define X-faces as being faces whose normal lies parallel to the\naxis. In 3D, the difference between edges and faces is more obvious.\n\n\n"
      ]
    }
  ],
  "metadata": {
    "kernelspec": {
      "display_name": "Python 3",
      "language": "python",
      "name": "python3"
    },
    "language_info": {
      "codemirror_mode": {
        "name": "ipython",
        "version": 3
      },
      "file_extension": ".py",
      "mimetype": "text/x-python",
      "name": "python",
      "nbconvert_exporter": "python",
      "pygments_lexer": "ipython3",
      "version": "3.7.6"
    }
  },
  "nbformat": 4,
  "nbformat_minor": 0
}