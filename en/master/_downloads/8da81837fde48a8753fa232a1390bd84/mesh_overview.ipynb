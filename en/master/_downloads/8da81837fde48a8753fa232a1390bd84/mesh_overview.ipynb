{
  "cells": [
    {
      "cell_type": "code",
      "execution_count": null,
      "metadata": {
        "collapsed": false
      },
      "outputs": [],
      "source": [
        "%matplotlib inline"
      ]
    },
    {
      "cell_type": "markdown",
      "metadata": {},
      "source": [
        "\nOverview of mesh types\n======================\n\n`discretize` provides a numerical grid on which to solve\ndifferential equations. Each mesh type has a similar API to make switching\nbetween different meshes relatively simple.\n\nWithin `discretize`, all meshes are classes that have properties like the\nnumber of cells `nC`, and methods, like `plotGrid`.\n"
      ]
    },
    {
      "cell_type": "code",
      "execution_count": null,
      "metadata": {
        "collapsed": false
      },
      "outputs": [],
      "source": [
        "import numpy as np\nimport discretize\nimport matplotlib.pyplot as plt"
      ]
    },
    {
      "cell_type": "markdown",
      "metadata": {},
      "source": [
        "General categories of meshes\n----------------------------\n\nThe three main types of meshes in discretize are\n  - TensorMesh (:class:`discretize.TensorMesh`): includes cylindrical meshes (:class:`discretize.CylMesh`)\n  - TreeMesh (:class:`discretize.TreeMesh`): also referred to as QuadTree or OcTree meshes\n  - CurvilinearMesh (:class:`discretize.CurviMesh`): also referred to as logically rectangular\n\n"
      ]
    },
    {
      "cell_type": "code",
      "execution_count": null,
      "metadata": {
        "collapsed": false
      },
      "outputs": [],
      "source": [
        "ncx = 16  # number of cells in the x-direction\nncy = 16  # number of cells in the y-direction\n\n# create a tensor mesh\ntensor_mesh = discretize.TensorMesh([ncx, ncy])\n\n# create a tree mesh and refine some of the cells\ntree_mesh = discretize.TreeMesh([ncx, ncy])\n\ndef refine(cell):\n    if np.sqrt(((np.r_[cell.center]-0.5)**2).sum()) < 0.4:\n        return 4\n    return 3\n\ntree_mesh.refine(refine)\n\n\n# create a tree mesh and refine some of the cells\ncurvi_mesh = discretize.CurvilinearMesh(\n    discretize.utils.exampleLrmGrid([ncx, ncy], 'rotate')\n)\n\n\nfig, axes = plt.subplots(1, 3, figsize=(14, 5))\ntensor_mesh.plotGrid(ax=axes[0])\naxes[0].set_title('TensorMesh')\n\ntree_mesh.plotGrid(ax=axes[1])\naxes[1].set_title('TreeMesh')\n\ncurvi_mesh.plotGrid(ax=axes[2])\naxes[2].set_title('CurvilinearMesh')"
      ]
    },
    {
      "cell_type": "markdown",
      "metadata": {},
      "source": [
        "Variable Locations and Terminology\n----------------------------------\nWe will go over the basics of using a TensorMesh, but these skills are\ntransferable to the other meshes available in discretize.\n\nTo create a TensorMesh we need to create mesh tensors, the widths of\neach cell of the mesh in each dimension. We will call these tensors h,\nand these will be define the constant widths of cells in each dimension\nof the TensorMesh.\n\n"
      ]
    },
    {
      "cell_type": "code",
      "execution_count": null,
      "metadata": {
        "collapsed": false
      },
      "outputs": [],
      "source": [
        "hx = np.r_[3,2,1,1,1,1,2,3]\nhy = np.r_[3,1,1,3]\ntensor_mesh2 = discretize.TensorMesh([hx, hy])\ntensor_mesh2.plotGrid(faces=True, nodes=True)\nplt.title('Cell faces in the x- and y-directions.')\nplt.legend(('Nodes', 'X-Faces', 'Y-Faces'))"
      ]
    },
    {
      "cell_type": "markdown",
      "metadata": {},
      "source": [
        "How many of each?\n^^^^^^^^^^^^^^^^^\n\nWhen making variables that live in each of these locations, it is\nimportant to know how many of each variable type you are dealing with.\ndiscretize makes this pretty easy:\n\n"
      ]
    },
    {
      "cell_type": "code",
      "execution_count": null,
      "metadata": {
        "collapsed": false
      },
      "outputs": [],
      "source": [
        "print(tensor_mesh2)"
      ]
    },
    {
      "cell_type": "code",
      "execution_count": null,
      "metadata": {
        "collapsed": false
      },
      "outputs": [],
      "source": [
        "count = {\n    'n_cells': tensor_mesh2.nC,\n    'n_cells_x_dir': tensor_mesh2.nCx,\n    'n_cells_y_dir': tensor_mesh2.nCy,\n    'n_cells_vector': tensor_mesh2.vnC\n}\n\nprint(\n    \"This mesh has {n_cells} which is {n_cells_x_dir} * {n_cells_y_dir}!!\".format(\n        **count\n    )\n)"
      ]
    },
    {
      "cell_type": "code",
      "execution_count": null,
      "metadata": {
        "collapsed": false
      },
      "outputs": [],
      "source": [
        "print(count)"
      ]
    },
    {
      "cell_type": "markdown",
      "metadata": {},
      "source": [
        "`discretize` also counts the nodes, faces, and edges.\n\n  - Nodes: `mesh.nN`, `mesh.nNx`, `mesh.nNy`, `mesh.nNz`, `mesh.vnN`\n  - Faces: `mesh.nF`, `mesh.nFx`, `mesh.nFy`, `mesh.nFz`, `mesh.vnF`, `mesh.vnFx`, `mesh.vnFy`, `mesh.vnFz`\n  - Edges: `mesh.nE`, `mesh.nEx`, `mesh.nEy`, `mesh.nEz`, `mesh.vnE`, `mesh.vnEx`, `mesh.vnEy`, `mesh.vnEz`\n\nFace and edge variables have different counts depending on\nthe dimension of the direction that you are interested in.\nIn a 4x5 mesh, for example, there is a 5x5 grid of x-faces,\nand a 4x6 grid of y-faces. You can count them below!\nAs such, the vnF(x,y,z) and vnE(x,y,z) properties give the\nvector grid size.\n\n"
      ]
    },
    {
      "cell_type": "code",
      "execution_count": null,
      "metadata": {
        "collapsed": false
      },
      "outputs": [],
      "source": [
        "discretize.TensorMesh([4,5]).plotGrid(faces=True)"
      ]
    },
    {
      "cell_type": "markdown",
      "metadata": {},
      "source": [
        "Making Tensors\n--------------\n\nFor tensor meshes, there are some additional functions that can come\nin handy. For example, creating mesh tensors can be a bit time\nconsuming, these can be created speedily by just giving numbers\nand sizes of padding. See the example below, that follows this\nnotation::\n\n    h = (\n          (cell_size, n_pad, [, increase_factor]),\n          (cell_size, n_core),\n          (cell_size, n_pad, [, increase_factor])\n        )\n\n\n"
      ]
    },
    {
      "cell_type": "code",
      "execution_count": null,
      "metadata": {
        "collapsed": false
      },
      "outputs": [],
      "source": [
        "h = [(10, 5, -1.3), (5, 20), (10, 3, 1.3)]\nmesh = discretize.TensorMesh([h, h])\nmesh.plotGrid(showIt=True)"
      ]
    }
  ],
  "metadata": {
    "kernelspec": {
      "display_name": "Python 3",
      "language": "python",
      "name": "python3"
    },
    "language_info": {
      "codemirror_mode": {
        "name": "ipython",
        "version": 3
      },
      "file_extension": ".py",
      "mimetype": "text/x-python",
      "name": "python",
      "nbconvert_exporter": "python",
      "pygments_lexer": "ipython3",
      "version": "3.7.3"
    }
  },
  "nbformat": 4,
  "nbformat_minor": 0
}