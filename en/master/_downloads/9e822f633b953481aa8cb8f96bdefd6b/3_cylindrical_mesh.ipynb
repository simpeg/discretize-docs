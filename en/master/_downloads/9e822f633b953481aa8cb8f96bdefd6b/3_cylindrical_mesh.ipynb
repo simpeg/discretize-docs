{
  "cells": [
    {
      "cell_type": "code",
      "execution_count": null,
      "metadata": {
        "collapsed": false
      },
      "outputs": [],
      "source": [
        "%matplotlib inline"
      ]
    },
    {
      "cell_type": "markdown",
      "metadata": {},
      "source": [
        "\n# Cylindrical meshes\n\nCylindrical meshes (:class:`~discretize.CylMesh`) are defined in terms of *r*\n(radial position), *z* (vertical position) and *phi* (azimuthal position).\nThey are a child class of the tensor mesh class. Cylindrical meshes are useful\nin solving differential equations that possess rotational symmetry. Here we\ndemonstrate:\n\n    - How to create basic cylindrical meshes\n    - How to include padding cells\n    - How to plot cylindrical meshes\n    - How to extract properties from meshes\n    - How to create cylindrical meshes to solve PDEs with rotational symmetry\n    \n"
      ]
    },
    {
      "cell_type": "markdown",
      "metadata": {},
      "source": [
        "## Import Packages\n\nHere we import the packages required for this tutorial.\n\n\n"
      ]
    },
    {
      "cell_type": "code",
      "execution_count": null,
      "metadata": {
        "collapsed": false
      },
      "outputs": [],
      "source": [
        "from discretize import CylMesh\nimport matplotlib.pyplot as plt\nimport numpy as np"
      ]
    },
    {
      "cell_type": "markdown",
      "metadata": {},
      "source": [
        "## Basic Example\n\nThe easiest way to define a cylindrical mesh is to define the cell widths in\n*r*, *phi* and *z* as 1D numpy arrays. And to provide a Cartesian position\nfor the bottom of the vertical axis of symmetry of the mesh. Note that\n\n   1. *phi* is in radians\n   2. The sum of values in the numpy array for *phi* cannot exceed $2\\pi$\n\n\n\n"
      ]
    },
    {
      "cell_type": "code",
      "execution_count": null,
      "metadata": {
        "collapsed": false
      },
      "outputs": [],
      "source": [
        "ncr = 10     # number of mesh cells in r\nncp = 8      # number of mesh cells in phi\nncz = 15     # number of mesh cells in z\ndr = 15      # cell width r\ndz = 10      # cell width z\n\nhr = dr*np.ones(ncr)\nhp = (2*np.pi/ncp)*np.ones(ncp)\nhz = dz*np.ones(ncz)\n\nx0 = 0.\ny0 = 0.\nz0 = -150.\n\nmesh = CylMesh([hr, hp, hz], x0=[x0, y0, z0])\n\nmesh.plotGrid()"
      ]
    },
    {
      "cell_type": "markdown",
      "metadata": {},
      "source": [
        "## Padding Cells and Extracting Properties\n\nFor practical purposes, the user may want to define a region where the cell\nwidths are increasing/decreasing in size. For example, padding is often used\nto define a large domain while reducing the total number of mesh cells.\nHere we demonstrate how to create cylindrical meshes that have padding cells.\nWe then show some properties that can be extracted from cylindrical meshes.\n\n\n"
      ]
    },
    {
      "cell_type": "code",
      "execution_count": null,
      "metadata": {
        "collapsed": false
      },
      "outputs": [],
      "source": [
        "ncr = 10              # number of mesh cells in r\nncp = 8               # number of mesh cells in phi\nncz = 15              # number of mesh cells in z\ndr = 15               # cell width r\ndp = 2*np.pi/ncp      # cell width phi\ndz = 10               # cell width z\nnpad_r = 4            # number of padding cells in r\nnpad_z = 4            # number of padding cells in z\nexp_r = 1.25          # expansion rate of padding cells in r\nexp_z = 1.25          # expansion rate of padding cells in z\n\n# Use a list of tuples to define cell widths in each direction. Each tuple\n# contains the cell with, number of cells and the expansion factor (+ve/-ve).\nhr = [(dr, ncr), (dr, npad_r, exp_r)]\nhp = [(dp, ncp)]\nhz = [(dz, npad_z, -exp_z), (dz, ncz), (dz, npad_z, exp_z)]\n\n# We can use flags 'C', '0' and 'N' to define the xyz position of the mesh.\nmesh = CylMesh([hr, hp, hz], x0='00C')\n\n# We can apply the plotGrid method and change the axis properties\nax = mesh.plotGrid()\nax[0].set_title('Discretization in phi')\n\nax[1].set_title('Discretization in r and z')\nax[1].set_xlabel('r')\nax[1].set_xbound(mesh.x0[0], mesh.x0[0]+np.sum(mesh.hx))\nax[1].set_ybound(mesh.x0[2], mesh.x0[2]+np.sum(mesh.hz))\n\n# The bottom end of the vertical axis of rotational symmetry\nx0 = mesh.x0\n\n# The total number of cells\nnC = mesh.nC\n\n# An (nC, 3) array containing the cell-center locations\ncc = mesh.gridCC\n\n# The cell volumes\nv = mesh.vol"
      ]
    },
    {
      "cell_type": "markdown",
      "metadata": {},
      "source": [
        "## Cylindrical Mesh for Rotational Symmetry\n\nCylindrical mesh are most useful when solving problems with perfect\nrotational symmetry. More precisely when:\n\n   - field components in the *phi* direction are 0\n   - fluxes in *r* and *z* are 0\n\nIn this case, the size of the forward problem can be significantly reduced.\nHere we demonstrate how to create a mesh for solving differential equations\nwith perfect rotational symmetry. Since the fields and fluxes are independent\nof the phi position, there will be no need to discretize along the phi\ndirection.\n\n\n"
      ]
    },
    {
      "cell_type": "code",
      "execution_count": null,
      "metadata": {
        "collapsed": false
      },
      "outputs": [],
      "source": [
        "ncr = 10              # number of mesh cells in r\nncz = 15              # number of mesh cells in z\ndr = 15               # cell width r\ndz = 10               # cell width z\nnpad_r = 4            # number of padding cells in r\nnpad_z = 4            # number of padding cells in z\nexp_r = 1.25          # expansion rate of padding cells in r\nexp_z = 1.25          # expansion rate of padding cells in z\n\nhr = [(dr, ncr), (dr, npad_r, exp_r)]\nhz = [(dz, npad_z, -exp_z), (dz, ncz), (dz, npad_z, exp_z)]\n\n# A value of 1 is used to define the discretization in phi for this case.\nmesh = CylMesh([hr, 1, hz], x0='00C')\n\n# The bottom end of the vertical axis of rotational symmetry\nx0 = mesh.x0\n\n# The total number of cells\nnC = mesh.nC\n\n# An (nC, 3) array containing the cell-center locations\ncc = mesh.gridCC\n\n# Plot the cell volumes.\nv = mesh.vol\n\nfig = plt.figure(figsize=(6, 4))\nax = fig.add_subplot(111)\nmesh.plotImage(np.log10(v), grid=True, ax=ax)\nax.set_xlabel('r')\nax.set_xbound(mesh.x0[0], mesh.x0[0]+np.sum(mesh.hx))\nax.set_ybound(mesh.x0[2], mesh.x0[2]+np.sum(mesh.hz))\nax.set_title('Cell Log-Volumes')"
      ]
    },
    {
      "cell_type": "markdown",
      "metadata": {},
      "source": [
        "Notice that we do not plot the discretization in phi as it is irrelevant.\n\n\n"
      ]
    }
  ],
  "metadata": {
    "kernelspec": {
      "display_name": "Python 3",
      "language": "python",
      "name": "python3"
    },
    "language_info": {
      "codemirror_mode": {
        "name": "ipython",
        "version": 3
      },
      "file_extension": ".py",
      "mimetype": "text/x-python",
      "name": "python",
      "nbconvert_exporter": "python",
      "pygments_lexer": "ipython3",
      "version": "3.7.8"
    }
  },
  "nbformat": 4,
  "nbformat_minor": 0
}