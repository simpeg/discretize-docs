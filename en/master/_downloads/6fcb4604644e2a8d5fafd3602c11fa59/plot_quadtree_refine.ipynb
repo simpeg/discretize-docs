{
  "cells": [
    {
      "cell_type": "code",
      "execution_count": null,
      "metadata": {
        "collapsed": false
      },
      "outputs": [],
      "source": [
        "%matplotlib inline"
      ]
    },
    {
      "cell_type": "markdown",
      "metadata": {},
      "source": [
        "\nQuadTree: Creation\n==================\n\nYou can give the refine method a function, which is evaluated on every\ncell of the TreeMesh.\n\nOccasionally it is useful to initially refine to a constant level\n(e.g. 3 in this 32x32 mesh). This means the function is first evaluated\non an 8x8 mesh (2^3).\n"
      ]
    },
    {
      "cell_type": "code",
      "execution_count": null,
      "metadata": {
        "collapsed": false
      },
      "outputs": [],
      "source": [
        "import discretize\nimport numpy as np\nimport matplotlib.pyplot as plt\n\n\ndef run(plotIt=True):\n    M = discretize.TreeMesh([32, 32])\n    M.refine(3)\n\n    def refine(cell):\n        xyz = cell.center\n        for i in range(3):\n            if np.abs(np.sin(xyz[0]*np.pi*2)*0.5 + 0.5 - xyz[1]) < 0.2*i:\n                return 6-i\n        return 0\n\n    M.refine(refine)\n    if plotIt:\n        M.plotGrid()\n\nif __name__ == '__main__':\n    run()\n    plt.show()"
      ]
    }
  ],
  "metadata": {
    "kernelspec": {
      "display_name": "Python 3",
      "language": "python",
      "name": "python3"
    },
    "language_info": {
      "codemirror_mode": {
        "name": "ipython",
        "version": 3
      },
      "file_extension": ".py",
      "mimetype": "text/x-python",
      "name": "python",
      "nbconvert_exporter": "python",
      "pygments_lexer": "ipython3",
      "version": "3.7.3"
    }
  },
  "nbformat": 4,
  "nbformat_minor": 0
}