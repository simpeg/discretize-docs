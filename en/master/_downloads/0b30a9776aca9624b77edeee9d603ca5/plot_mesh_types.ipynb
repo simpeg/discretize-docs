{
  "cells": [
    {
      "cell_type": "code",
      "execution_count": null,
      "metadata": {
        "collapsed": false
      },
      "outputs": [],
      "source": [
        "%matplotlib inline"
      ]
    },
    {
      "cell_type": "markdown",
      "metadata": {},
      "source": [
        "\nMesh Types\n==========\n\nHere we show :code:`discretize` used to create three different types of meshes.\n"
      ]
    },
    {
      "cell_type": "code",
      "execution_count": null,
      "metadata": {
        "collapsed": false
      },
      "outputs": [],
      "source": [
        "import discretize\nimport numpy as np\nimport matplotlib.pyplot as plt\n\n\ndef run(plotIt=True):\n    sz = [16, 16]\n    tM = discretize.TensorMesh(sz)\n    qM = discretize.TreeMesh(sz)\n\n    def refine(cell):\n        if np.sqrt(((np.r_[cell.center]-0.5)**2).sum()) < 0.4:\n            return 4\n        return 3\n\n    qM.refine(refine)\n    rM = discretize.CurvilinearMesh(discretize.utils.exampleLrmGrid(sz, 'rotate'))\n\n    if not plotIt:\n        return\n    fig, axes = plt.subplots(1, 3, figsize=(14, 5))\n    opts = {}\n    tM.plotGrid(ax=axes[0], **opts)\n    axes[0].set_title('TensorMesh')\n    qM.plotGrid(ax=axes[1], **opts)\n    axes[1].set_title('TreeMesh')\n    rM.plotGrid(ax=axes[2], **opts)\n    axes[2].set_title('CurvilinearMesh')\n\nif __name__ == '__main__':\n    run()\n    plt.show()"
      ]
    }
  ],
  "metadata": {
    "kernelspec": {
      "display_name": "Python 3",
      "language": "python",
      "name": "python3"
    },
    "language_info": {
      "codemirror_mode": {
        "name": "ipython",
        "version": 3
      },
      "file_extension": ".py",
      "mimetype": "text/x-python",
      "name": "python",
      "nbconvert_exporter": "python",
      "pygments_lexer": "ipython3",
      "version": "3.7.3"
    }
  },
  "nbformat": 4,
  "nbformat_minor": 0
}