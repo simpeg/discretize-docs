{
  "cells": [
    {
      "cell_type": "code",
      "execution_count": null,
      "metadata": {
        "collapsed": false
      },
      "outputs": [],
      "source": [
        "%matplotlib inline"
      ]
    },
    {
      "cell_type": "markdown",
      "metadata": {},
      "source": [
        "\nTensor: Creation\n================\n\nFor tensor meshes, there are some functions that can come\nin handy. For example, creating mesh tensors can be a bit time\nconsuming, these can be created speedily by just giving numbers\nand sizes of padding. See the example below, that follows this\nnotation::\n\n    h1 = (\n           (cellSize, numPad, [, increaseFactor]),\n           (cellSize, numCore),\n           (cellSize, numPad, [, increaseFactor])\n         )\n\n<div class=\"alert alert-info\"><h4>Note</h4><p>You can center your mesh by passing a 'C' for the x0[i] position.\n    A 'N' will make the entire mesh negative, and a '0' (or a 0) will\n    make the mesh start at zero.</p></div>\n"
      ]
    },
    {
      "cell_type": "code",
      "execution_count": null,
      "metadata": {
        "collapsed": false
      },
      "outputs": [],
      "source": [
        "import discretize\nimport matplotlib.pyplot as plt\n\n\ndef run(plotIt=True):\n    h1 = [(10, 5, -1.3), (5, 20), (10, 3, 1.3)]\n    M = discretize.TensorMesh([h1, h1], x0='CN')\n    if plotIt:\n        M.plotGrid()\n\nif __name__ == '__main__':\n    run()\n    plt.show()"
      ]
    }
  ],
  "metadata": {
    "kernelspec": {
      "display_name": "Python 3",
      "language": "python",
      "name": "python3"
    },
    "language_info": {
      "codemirror_mode": {
        "name": "ipython",
        "version": 3
      },
      "file_extension": ".py",
      "mimetype": "text/x-python",
      "name": "python",
      "nbconvert_exporter": "python",
      "pygments_lexer": "ipython3",
      "version": "3.7.3"
    }
  },
  "nbformat": 4,
  "nbformat_minor": 0
}