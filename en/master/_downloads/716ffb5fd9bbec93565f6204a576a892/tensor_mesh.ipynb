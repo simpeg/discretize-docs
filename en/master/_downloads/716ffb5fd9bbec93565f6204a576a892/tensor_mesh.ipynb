{
  "cells": [
    {
      "cell_type": "code",
      "execution_count": null,
      "metadata": {
        "collapsed": false
      },
      "outputs": [],
      "source": [
        "%matplotlib inline"
      ]
    },
    {
      "cell_type": "markdown",
      "metadata": {},
      "source": [
        "\nTensor meshes\n=============\n\nTensor meshes (:class:`~discretize.TensorMesh`) are defined by a vectors of\ncell widths in each dimension. They can be defined in 1, 2, or 3 dimensions.\n"
      ]
    },
    {
      "cell_type": "code",
      "execution_count": null,
      "metadata": {
        "collapsed": false
      },
      "outputs": [],
      "source": [
        "import numpy as np\nimport discretize"
      ]
    },
    {
      "cell_type": "markdown",
      "metadata": {},
      "source": [
        "In the simplest case, you can instantiate a tensor mesh by providing the\nnumber of cells in each dimension. This assumes that the extent of each\ndimension is unity.\n\n"
      ]
    },
    {
      "cell_type": "code",
      "execution_count": null,
      "metadata": {
        "collapsed": false
      },
      "outputs": [],
      "source": [
        "ncx = 16\nncy = 16\ntensor_mesh = discretize.TensorMesh([ncx, ncy])\n\ntensor_mesh.plotGrid()"
      ]
    },
    {
      "cell_type": "markdown",
      "metadata": {},
      "source": [
        "If instead, you want a mesh that has 16 cells in each dimension and the width\nof each cell is 1 (so that the extent of the domain is 16), you can instead\nspecify the vector of cell widths.\n\n"
      ]
    },
    {
      "cell_type": "code",
      "execution_count": null,
      "metadata": {
        "collapsed": false
      },
      "outputs": [],
      "source": [
        "hx2 = np.ones(ncx)\nhy2 = np.ones(ncy)\ntensor_mesh2 = discretize.TensorMesh([hx2, hy2])\n\ntensor_mesh2.plotGrid()"
      ]
    },
    {
      "cell_type": "markdown",
      "metadata": {},
      "source": [
        "In one lin, the above mesh can be specified by providing tuples to TensorMesh\n(cell_size, number_of_cells)\n\n"
      ]
    },
    {
      "cell_type": "code",
      "execution_count": null,
      "metadata": {
        "collapsed": false
      },
      "outputs": [],
      "source": [
        "cell_size = 1\ntensor_mesh2b = discretize.TensorMesh([\n    [(cell_size, ncx)],  # hx\n    [(cell_size, ncy)]  # hy\n])"
      ]
    },
    {
      "cell_type": "markdown",
      "metadata": {},
      "source": [
        "The widths of the cells can be variable. For example when solving problems\nin electromagnetics, it is necessary to add \"padding cells\" which expand\nnear the boundary so that we satisfy the boundary conditions\n\n"
      ]
    },
    {
      "cell_type": "code",
      "execution_count": null,
      "metadata": {
        "collapsed": false
      },
      "outputs": [],
      "source": [
        "n_padding_cells = 4\npadding_factor = 1.3\nh_padding = padding_factor * np.arange(n_padding_cells)\nh_core = np.ones(ncx)\n\nhx3 = np.hstack([np.flipud(h_padding), h_core, h_padding])\nhy3 = hx3\n\ntensor_mesh3 = discretize.TensorMesh([hx3, hy3])\n\ntensor_mesh3.plotGrid()"
      ]
    },
    {
      "cell_type": "markdown",
      "metadata": {},
      "source": [
        "Since it is common to include padding in meshes for numerical simulations,\nwe simplify the above steps by allowing you to provide a list of tuples\ndescribing parts of the mesh. When there is a third number in the tuple, it\nrefers to the factor by which we increase the cell size. If the number is\nnegative, the tensor is flipped so that the widest cells are first.\n\n"
      ]
    },
    {
      "cell_type": "code",
      "execution_count": null,
      "metadata": {
        "collapsed": false
      },
      "outputs": [],
      "source": [
        "hx4 = [\n    (cell_size, n_padding_cells, -padding_factor),  # padding on the left\n    (cell_size, ncx),  # core part of the mesh (uniform cells)\n    (cell_size, n_padding_cells, padding_factor),  # padding on the right\n]\nhy4 = hx4\ntensor_mesh4 = discretize.TensorMesh([hx4, hy4])\n\ntensor_mesh4.plotGrid()"
      ]
    },
    {
      "cell_type": "markdown",
      "metadata": {},
      "source": [
        "The origin of the mesh can be moved by assigning the `x0` variable. When a\nmesh is instantiated, the `x0` can be provided as a keyword. Alternatively,\nit can be set by setting the `x0` property after a mesh has been created.\nHere, we will position the origin in the center of the mesh created in the\nprevious step.\n\n"
      ]
    },
    {
      "cell_type": "code",
      "execution_count": null,
      "metadata": {
        "collapsed": false
      },
      "outputs": [],
      "source": [
        "x0 = [-tensor_mesh4.hx.sum()/2, -tensor_mesh4.hy.sum()/2]\ntensor_mesh4.x0 = x0\n\ntensor_mesh4.plotGrid()"
      ]
    },
    {
      "cell_type": "markdown",
      "metadata": {},
      "source": [
        "The above is equivalent to passing `x0='CC'` which states that you want both\nthe x and y directions of the mesh to be centered. A 'N'\nwill make the entire mesh negative, and a '0' (or a 0) will\nmake the mesh start at zero.\n\n"
      ]
    },
    {
      "cell_type": "code",
      "execution_count": null,
      "metadata": {
        "collapsed": false
      },
      "outputs": [],
      "source": [
        "tensor_mesh4b = discretize.TensorMesh([hx4, hx4], x0='CC').plotGrid()"
      ]
    }
  ],
  "metadata": {
    "kernelspec": {
      "display_name": "Python 3",
      "language": "python",
      "name": "python3"
    },
    "language_info": {
      "codemirror_mode": {
        "name": "ipython",
        "version": 3
      },
      "file_extension": ".py",
      "mimetype": "text/x-python",
      "name": "python",
      "nbconvert_exporter": "python",
      "pygments_lexer": "ipython3",
      "version": "3.7.3"
    }
  },
  "nbformat": 4,
  "nbformat_minor": 0
}