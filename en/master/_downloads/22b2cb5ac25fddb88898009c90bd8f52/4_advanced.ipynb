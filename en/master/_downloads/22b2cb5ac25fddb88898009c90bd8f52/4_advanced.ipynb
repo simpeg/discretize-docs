{
  "cells": [
    {
      "cell_type": "code",
      "execution_count": null,
      "metadata": {
        "collapsed": false
      },
      "outputs": [],
      "source": [
        "%matplotlib inline"
      ]
    },
    {
      "cell_type": "markdown",
      "metadata": {},
      "source": [
        "\nAdvanced Examples\n=================\n\nIn this section, we demonstrate how to go from the inner product to the\ndiscrete approximation for some special cases. We also show how all\nnecessary operators are constructed for each case.\n    \n"
      ]
    },
    {
      "cell_type": "markdown",
      "metadata": {},
      "source": [
        "Import Packages\n---------------\n\nHere we import the packages required for this tutorial\n\n\n"
      ]
    },
    {
      "cell_type": "code",
      "execution_count": null,
      "metadata": {
        "collapsed": false
      },
      "outputs": [],
      "source": [
        "from discretize.utils import sdiag\nfrom discretize import TensorMesh\nimport numpy as np\nimport matplotlib.pyplot as plt"
      ]
    },
    {
      "cell_type": "markdown",
      "metadata": {},
      "source": [
        "Constitive Relations and Differential Operators\n-----------------------------------------------\n\nWhere $\\psi$ and $\\phi$ are scalar quantities,\n$\\vec{u}$ and $\\vec{v}$ are vector quantities, and\n$\\sigma$ defines a constitutive relationship, we may need to derive\ndiscrete approximations for the following inner products:\n\n    1. $(\\vec{u} , \\sigma \\nabla \\phi)$\n    2. $(\\psi , \\sigma \\nabla \\cdot \\vec{v})$\n    3. $(\\vec{u} , \\sigma \\nabla \\times \\vec{v})$\n\nThese cases effectively combine what was learned in the previous two\ntutorials. For each case, we must:\n\n    - Define discretized quantities at the appropriate mesh locations\n    - Define an inner product matrix that depends on a single constitutive parameter ($\\sigma$) or a tensor ($\\Sigma$)\n    - Construct differential operators that may require you to define boundary conditions\n\nWhere $\\mathbf{M_e}(\\sigma)$ is the property dependent inner-product\nmatrix for quantities on cell edges, $\\mathbf{M_f}(\\sigma)$ is the\nproperty dependent inner-product matrix for quantities on cell faces,\n$\\mathbf{G_{ne}}$ is the nodes to edges gradient operator and\n$\\mathbf{G_{cf}}$ is the centers to faces gradient operator:\n\n\\begin{align}(\\vec{u} , \\sigma \\nabla \\phi) &= \\mathbf{u_f^T M_f}(\\sigma) \\mathbf{ G_{cf} \\, \\phi_c} \\;\\;\\;\\;\\; (\\vec{u} \\;\\textrm{on faces and} \\; \\phi \\; \\textrm{at centers}) \\\\\n    &= \\mathbf{u_e^T M_e}(\\sigma) \\mathbf{ G_{ne} \\, \\phi_n} \\;\\;\\;\\; (\\vec{u} \\;\\textrm{on edges and} \\; \\phi \\; \\textrm{on nodes})\\end{align}\n\nWhere $\\mathbf{M_c}(\\sigma)$ is the property dependent inner-product\nmatrix for quantities at cell centers and $\\mathbf{D}$ is the faces\nto centers divergence operator:\n\n\\begin{align}(\\psi , \\sigma \\nabla \\cdot \\vec{v}) = \\mathbf{\\psi_c^T M_c} (\\sigma)\\mathbf{ D v_f} \\;\\;\\;\\; (\\psi \\;\\textrm{at centers and} \\; \\vec{v} \\; \\textrm{on faces} )\\end{align}\n\nWhere $\\mathbf{C_{ef}}$ is the edges to faces curl operator and\n$\\mathbf{C_{fe}}$ is the faces to edges curl operator:\n\n\\begin{align}(\\vec{u} , \\sigma \\nabla \\times \\vec{v}) &= \\mathbf{u_f^T M_f} (\\sigma) \\mathbf{ C_{ef} \\, v_e} \\;\\;\\;\\; (\\vec{u} \\;\\textrm{on edges and} \\; \\vec{v} \\; \\textrm{on faces} )\\\\\n    &= \\mathbf{u_e^T M_e} (\\sigma) \\mathbf{ C_{fe} \\, v_f} \\;\\;\\;\\; (\\vec{u} \\;\\textrm{on faces and} \\; \\vec{v} \\; \\textrm{on edges} )\\end{align}\n\n**With the operators constructed below, you can compute all of the\naforementioned inner products.**\n\n\n"
      ]
    },
    {
      "cell_type": "code",
      "execution_count": null,
      "metadata": {
        "collapsed": false
      },
      "outputs": [],
      "source": [
        "# Make basic mesh\nh = np.ones(10)\nmesh = TensorMesh([h, h, h])\nsig = np.random.rand(mesh.nC)     # isotropic\nSig = np.random.rand(mesh.nC, 6)  # anisotropic\n\n# Inner product matricies\nMc = sdiag(mesh.vol*sig)             # Inner product matrix (centers)\n# Mn = mesh.getNodalInnerProduct(sig)  # Inner product matrix (nodes)  (*functionality pending*)\nMe = mesh.getEdgeInnerProduct(sig)   # Inner product matrix (edges)\nMf = mesh.getFaceInnerProduct(sig)   # Inner product matrix for tensor (faces)\n\n# Differential operators\nGne = mesh.nodalGrad              # Nodes to edges gradient\nmesh.setCellGradBC(['neumann', 'dirichlet', 'neumann'])  # Set boundary conditions\nGcf = mesh.cellGrad               # Cells to faces gradient\nD = mesh.faceDiv                  # Faces to centers divergence\nCef = mesh.edgeCurl               # Edges to faces curl\nCfe = mesh.edgeCurl.T             # Faces to edges curl\n\n# EXAMPLE: (u, sig*Curl*v)\nfig = plt.figure(figsize=(9, 5))\n\nax1 = fig.add_subplot(121)\nax1.spy(Mf*Cef, markersize=0.5)\nax1.set_title('Me(sig)*Cef (Isotropic)', pad=10)\n\nMf_tensor = mesh.getFaceInnerProduct(Sig)  # inner product matrix for tensor\nax2 = fig.add_subplot(122)\nax2.spy(Mf_tensor*Cef, markersize=0.5)\nax2.set_title('Me(sig)*Cef (Anisotropic)', pad=10)"
      ]
    },
    {
      "cell_type": "markdown",
      "metadata": {},
      "source": [
        "Divergence of a Scalar and a Vector Field\n-----------------------------------------\n\nWhere $\\psi$ and $\\phi$ are scalar quantities, and\n$\\vec{u}$ is a known vector field, we may need to derive\na discrete approximation for the following inner product:\n\n\\begin{align}(\\psi , \\nabla \\cdot \\phi \\vec{u})\\end{align}\n\nScalar and vector quantities are generally discretized to lie on\ndifferent locations on the mesh. As result, it is better to use the\nidentity $\\nabla \\cdot \\phi \\vec{u} = \\phi \\nabla \\cdot \\vec{u} + \\vec{u} \\cdot \\nabla \\phi$\nand separate the inner product into two parts:\n\n\\begin{align}(\\psi , \\phi \\nabla \\cdot \\vec{u} ) + (\\psi , \\vec{u} \\cdot \\nabla \\phi)\\end{align}\n\n**Term 1:**\n\nIf the vector field $\\vec{u}$ is divergence free, there is no need\nto evaluate the first inner product term. This is the case for advection when\nthe fluid is incompressible.\n\nWhere $\\mathbf{D_{fc}}$ is the faces to centers divergence operator, and\n$\\mathbf{M_c}$ is the basic inner product matrix for cell centered\nquantities, we can approximate this inner product as:\n\n\\begin{align}(\\psi , \\phi \\nabla \\cdot \\vec{u} ) = \\mathbf{\\psi_c^T M_c} \\textrm{diag} (\\mathbf{D_{fc} u_f} ) \\, \\mathbf{\\phi_c}\\end{align}\n\n**Term 2:**\n\nLet $\\mathbf{G_{cf}}$ be the cell centers to faces gradient operator,\n$\\mathbf{M_c}$ be the basic inner product matrix for cell centered\nquantities, and $\\mathbf{\\tilde{A}_{fc}}$ and averages *and* sums the\ncartesian contributions of $\\vec{u} \\cdot \\nabla \\phi$, we can\napproximate the inner product as:\n\n\\begin{align}(\\psi , \\vec{u} \\cdot \\nabla \\phi) = \\mathbf{\\psi_c^T M_c \\tilde A_{fc}} \\text{diag} (\\mathbf{u_f} ) \\mathbf{G_{cf} \\, \\phi_c}\\end{align}\n\n**With the operators constructed below, you can compute all of the\ninner products.**\n\n"
      ]
    },
    {
      "cell_type": "code",
      "execution_count": null,
      "metadata": {
        "collapsed": false
      },
      "outputs": [],
      "source": [
        "# Make basic mesh\nh = np.ones(10)\nmesh = TensorMesh([h, h, h])\n\n# Inner product matricies\nMc = sdiag(mesh.vol*sig)             # Inner product matrix (centers)\n\n# Differential operators\nmesh.setCellGradBC(['neumann', 'dirichlet', 'neumann'])  # Set boundary conditions\nGcf = mesh.cellGrad               # Cells to faces gradient\nDfc = mesh.faceDiv                # Faces to centers divergence\n\n# Averaging and summing matrix\nAfc = mesh.dim*mesh.aveF2CC"
      ]
    }
  ],
  "metadata": {
    "kernelspec": {
      "display_name": "Python 3",
      "language": "python",
      "name": "python3"
    },
    "language_info": {
      "codemirror_mode": {
        "name": "ipython",
        "version": 3
      },
      "file_extension": ".py",
      "mimetype": "text/x-python",
      "name": "python",
      "nbconvert_exporter": "python",
      "pygments_lexer": "ipython3",
      "version": "3.7.8"
    }
  },
  "nbformat": 4,
  "nbformat_minor": 0
}