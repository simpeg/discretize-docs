{
  "cells": [
    {
      "cell_type": "code",
      "execution_count": null,
      "metadata": {
        "collapsed": false
      },
      "outputs": [],
      "source": [
        "%matplotlib inline"
      ]
    },
    {
      "cell_type": "markdown",
      "metadata": {},
      "source": [
        "\n# Gauss' Law of Electrostatics\n\nHere we use the discretize package to solve for the electric potential\n($\\phi$) and electric fields ($\\mathbf{e}$) in 2D that result from\na static charge distribution. Starting with Gauss' law and Faraday's law:\n    \n\\begin{align}&\\nabla \\cdot \\mathbf{E} = \\frac{\\rho}{\\epsilon_0} \n\n    &\\nabla \\times \\mathbf{E} = \\mathbf{0} \\;\\;\\; \\Rightarrow \\;\\;\\; \\mathbf{E} = -\\nabla \\phi \n\n    &\\textrm{s.t.} \\;\\;\\; \\phi \\Big |_{\\partial \\Omega} = 0\\end{align}\nwhere $\\sigma$ is the charge density and $\\epsilon_0$ is the\npermittivity of free space. We will consider the case where there is both a\npositive and a negative charge of equal magnitude within our domain. Thus:\n\n\\begin{align}\\rho = \\rho_0 \\big [ \\delta ( \\mathbf{r_+}) - \\delta (\\mathbf{r_-} ) \\big ]\\end{align}\n\nTo solve this problem numerically, we use the weak formulation; that is, we\ntake the inner product of each equation with an appropriate test function.\nWhere $\\psi$ is a scalar test function and $\\mathbf{f}$ is a\nvector test function:\n\n\\begin{align}\\int_\\Omega \\psi (\\nabla \\cdot \\mathbf{E}) dV = \\frac{1}{\\epsilon_0} \\int_\\Omega \\psi \\rho dV \n\n    \\int_\\Omega \\mathbf{f \\cdot E} \\, dV = - \\int_\\Omega \\mathbf{f} \\cdot (\\nabla \\phi ) dV\\end{align}\n\n\nIn the case of Gauss' law, we have a volume integral containing the Dirac delta\nfunction, thus:\n\n\\begin{align}\\int_\\Omega \\psi (\\nabla \\cdot \\mathbf{E}) dV = \\frac{1}{\\epsilon_0} \\psi \\, q\\end{align}\n\nwhere $q$ represents an integrated charge density. By applying the finite\nvolume approach to this expression we obtain:\n\n\\begin{align}\\mathbf{\\psi^T M_c D e} = \\frac{1}{\\epsilon_0} \\mathbf{\\psi^T q}\\end{align}\n\nwhere $\\mathbf{q}$ denotes the total enclosed charge for each cell. Thus\n$\\mathbf{q_i}=\\rho_0$ for the cell containing the positive charge and\n$\\mathbf{q_i}=-\\rho_0$ for the cell containing the negative charge. It\nis zero for every other cell.\n\n$\\mathbf{\\psi}$ and $\\mathbf{q}$ live at cell centers and\n$\\mathbf{e}$ lives on cell faces. $\\mathbf{D}$ is the discrete\ndivergence operator. $\\mathbf{M_c}$ is an inner product matrix for cell\ncentered quantities.\n\nFor the second weak form equation, we make use of the divergence theorem as\nfollows:\n\n\\begin{align}\\int_\\Omega \\mathbf{f \\cdot E} \\, dV &= - \\int_\\Omega \\mathbf{f} \\cdot (\\nabla \\phi ) dV \n\n    & = - \\frac{1}{\\epsilon_0} \\int_\\Omega \\nabla \\cdot (\\mathbf{f} \\phi ) dV + \\frac{1}{\\epsilon_0} \\int_\\Omega ( \\nabla \\cdot \\mathbf{f} ) \\phi \\, dV \n\n    & = - \\frac{1}{\\epsilon_0} \\int_{\\partial \\Omega} \\mathbf{n} \\cdot (\\mathbf{f} \\phi ) da + \\frac{1}{\\epsilon_0} \\int_\\Omega ( \\nabla \\cdot \\mathbf{f} ) \\phi \\, dV \n\n    & = 0 + \\frac{1}{\\epsilon_0} \\int_\\Omega ( \\nabla \\cdot \\mathbf{f} ) \\phi \\, dV\\end{align}\n\nwhere the surface integral is zero due to the boundary conditions we imposed.\nEvaluating this expression according to the finite volume approach we obtain:\n\n\\begin{align}\\mathbf{f^T M_f e} = \\mathbf{f^T D^T M_c \\phi}\\end{align}\n\nwhere $\\mathbf{f}$ lives on cell faces and $\\mathbf{M_f}$ is the\ninner product matrix for quantities that live on cell faces. By canceling terms\nand combining the set of discrete equations we obtain:\n\n\\begin{align}\\big [ \\mathbf{M_c D M_f^{-1} D^T M_c} \\big ] \\mathbf{\\phi} = \\frac{1}{\\epsilon_0} \\mathbf{q}\\end{align}\n\nfrom which we can solve for $\\mathbf{\\phi}$. The electric field can be\nobtained by computing:\n\n\\begin{align}\\mathbf{e} = \\mathbf{M_f^{-1} D^T M_c \\phi}\\end{align}\n"
      ]
    },
    {
      "cell_type": "markdown",
      "metadata": {},
      "source": [
        "## Import Packages\n\nHere we import the packages required for this tutorial.\n\n\n"
      ]
    },
    {
      "cell_type": "code",
      "execution_count": null,
      "metadata": {
        "collapsed": false
      },
      "outputs": [],
      "source": [
        "from discretize import TensorMesh\nfrom pymatsolver import SolverLU\nimport matplotlib.pyplot as plt\nimport numpy as np\nfrom discretize.utils import sdiag"
      ]
    },
    {
      "cell_type": "markdown",
      "metadata": {},
      "source": [
        "## Solving the Problem\n\n\n"
      ]
    },
    {
      "cell_type": "code",
      "execution_count": null,
      "metadata": {
        "collapsed": false
      },
      "outputs": [],
      "source": [
        "# Create a tensor mesh\nh = np.ones(75)\nmesh = TensorMesh([h, h], \"CC\")\n\n# Create system\nDIV = mesh.faceDiv  # Faces to cell centers divergence\nMf_inv = mesh.getFaceInnerProduct(invMat=True)\nMc = sdiag(mesh.vol)\nA = Mc * DIV * Mf_inv * DIV.T * Mc\n\n# Define RHS (charge distributions at cell centers)\nxycc = mesh.gridCC\nkneg = (xycc[:, 0] == -10) & (xycc[:, 1] == 0)  # -ve charge distr. at (-10, 0)\nkpos = (xycc[:, 0] == 10) & (xycc[:, 1] == 0)  # +ve charge distr. at (10, 0)\n\nrho = np.zeros(mesh.nC)\nrho[kneg] = -1\nrho[kpos] = 1\n\n# LU factorization and solve\nAinvM = SolverLU(A)\nphi = AinvM * rho\n\n# Compute electric fields\nE = Mf_inv * DIV.T * Mc * phi\n\n# Plotting\nfig = plt.figure(figsize=(14, 4))\n\nax1 = fig.add_subplot(131)\nmesh.plotImage(rho, v_type=\"CC\", ax=ax1)\nax1.set_title(\"Charge Density\")\n\nax2 = fig.add_subplot(132)\nmesh.plotImage(phi, v_type=\"CC\", ax=ax2)\nax2.set_title(\"Electric Potential\")\n\nax3 = fig.add_subplot(133)\nmesh.plotImage(\n    E, ax=ax3, v_type=\"F\", view=\"vec\", stream_opts={\"color\": \"w\", \"density\": 1.0}\n)\nax3.set_title(\"Electric Fields\")"
      ]
    }
  ],
  "metadata": {
    "kernelspec": {
      "display_name": "Python 3",
      "language": "python",
      "name": "python3"
    },
    "language_info": {
      "codemirror_mode": {
        "name": "ipython",
        "version": 3
      },
      "file_extension": ".py",
      "mimetype": "text/x-python",
      "name": "python",
      "nbconvert_exporter": "python",
      "pygments_lexer": "ipython3",
      "version": "3.9.1"
    }
  },
  "nbformat": 4,
  "nbformat_minor": 0
}