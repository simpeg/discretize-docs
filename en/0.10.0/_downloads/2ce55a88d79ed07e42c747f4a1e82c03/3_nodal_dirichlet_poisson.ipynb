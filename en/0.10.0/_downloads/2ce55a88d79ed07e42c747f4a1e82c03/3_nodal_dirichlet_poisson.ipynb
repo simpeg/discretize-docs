{
  "cells": [
    {
      "cell_type": "markdown",
      "metadata": {},
      "source": [
        "\n# Nodal Dirichlet Poisson solution\nIn this example, we demonstrate how to solve a Poisson equation where the\nsolution lives on nodes, and we want to impose Dirichlet conditions on the\nboundary.\n\n## Solve a nodal Poisson's equation with Dirichlet boundary conditions\nThe PDE we want to solve is Poisson's equation with a variable\nconductivity, where we know the value of the solution on the boundary.\n\n\\begin{align}- \\nabla \\cdot \\sigma \\nabla u = f \\\\\n    u = q \\textrm{ on } \\partial\\Omega\\end{align}\n\nWe express this in a weak form, where we multiply by an arbitrary test function\nand integrate over the volume:\n\n\\begin{align}\\left<w,\\nabla \\cdot -\\sigma \\nabla u \\right> = \\left<w,f \\right>\\end{align}\n\nThe left hand side can be changed to avoid taking the divergence of\n$-\\sigma \\nabla u$ using a higher dimension integration by parts, instead\ntransfering the differentiability to $w$.\n\n\\begin{align}\\left<\\nabla w,\\sigma \\nabla u \\right>\n    - \\int_{\\partial\\Omega}w \\left(\\sigma \\nabla u \\right) \\cdot \\hat{n} dA\n    = \\left<w,f\\right>\\end{align}\n\nWe are interested in solving this where $u$, $f$, and $w$ are\ndefined on cell nodes, $\\sigma$ is defined on cell centers. Also of note\nis that in the finite volume formulation we approximate the solution as\nintegrals of averages over each cell and the test functions and basis functions\nare piecewise constant. Thus our discrete form goes to:\n\n\\begin{align}w^T G^T M_{e,\\sigma} G u - w_b^T b_c = w^T M_n f\\end{align}\n\nwith $b_c$ representing the boundary condition on\n$\\left(\\sigma \\nabla u \\right) \\cdot \\hat{n}$. Where $G$ is a nodal\ngradient operator that estimates the gradient at the edge centers,\n$M_{e, \\sigma}$ represents the inner product of vectors that live on mesh\nedges taken with respect to $\\sigma$, and $M_{n}$ is\ncorrespondingly the inner product operator for scalars that live on mesh nodes.\n\n## Taking care of the boundaries\n\nSet $u_b$, and $w_b$ as the values of $u$ and $w$ on\nthe boundary, and $u_f$ and $w_f$ the values of $u$ and\n$w$ on the interior. We have that\n\n\\begin{align}w = P_f w_f + P_b w_b \\\\\n    u = P_f u_f + P_b u_b\\end{align}\n\nWhere $P_b$ and $P_f$ are the matrices which project the values\non the boundary and free interior nodes, respectively, to all of the nodes.\n\nThere is much freedom in what we choose to be our test functions, and to avoid\nthe integral on the boundary without assuming a value for\n$\\left(\\sigma \\nabla u \\right) \\cdot \\hat{n}$, we set that our test\nfunctions are zero on the boundary, $w_b = 0$\n\nThus the full system is\n\n\\begin{align}w_f^T P_f^T G^T M_{e,\\sigma} G (P_f u_f + P_b u_b) = w_f^T P_f^T M_n f\\end{align}\n\n## Our final system of equations\n\nThe above scalar equality must be true for all vectors $w$, thus the\nvectors are also equal:\n\n\\begin{align}P_f^T G^T M_{e,\\sigma} G (P_f u_f + P_b u_b) = P_f^T M_n f\\end{align}\n\nWe then collect the unknowns $u_f$ on the left hand side, and move\neverything else to the right.\n\n\\begin{align}P_f^T G^T M_{e,\\sigma} G P_f u_f = P_f^T M_n f\n    - P_f^T G^T M_{e,\\sigma} G P_b u_b\\end{align}\n\nNow lets actually code this solution up using these matrices!\n"
      ]
    },
    {
      "cell_type": "code",
      "execution_count": null,
      "metadata": {
        "collapsed": false
      },
      "outputs": [],
      "source": [
        "import numpy as np\nimport discretize\nimport matplotlib.pyplot as plt\nimport scipy.sparse as sp\nfrom discretize import tests\n\nimport sympy\nimport sympy.vector as spv\nfrom sympy.utilities.lambdify import lambdify"
      ]
    },
    {
      "cell_type": "markdown",
      "metadata": {},
      "source": [
        "## Our PDE\nWe are going to setup a simple two-dimensional problem which we will solve on\na `TensorMesh`. We want to test the accuracy of our discretization scheme for\nthe problem (it should be second order accurate). Thus we define a known\nsolution $u$ and property model $\\sigma$. Then we use sympy to do\nall the derivatives for us to determine the correct forcing function.\n\n\\begin{align}u = \\sin(x) \\cos(y) e^{x + y} \\\\\n    \\sigma = \\cos(x) \\sin(y)\\end{align}\n\n\n"
      ]
    },
    {
      "cell_type": "code",
      "execution_count": null,
      "metadata": {
        "collapsed": false
      },
      "outputs": [],
      "source": [
        "C = spv.CoordSys3D(\"u\")\n\nu = sympy.sin(C.x) * sympy.cos(C.y) * sympy.exp(C.x + C.y)\nsig = sympy.cos(C.x) * sympy.sin(C.y)\n\nf = -spv.divergence(sig * spv.gradient(u))\n\n# lambdify the functions so we can evalute them at any requested location\nu_func = lambdify([C.x, C.y], u)\nsig_func = lambdify([C.x, C.y], sig)\nf_func = lambdify([C.x, C.y], f)\nprint(f)"
      ]
    },
    {
      "cell_type": "markdown",
      "metadata": {},
      "source": [
        "Next we are going to solve our PDE! We encapsulate the code into a\nfunction that returns the error and discretization size, so we can use\n`discretize`'s testing utilities to perform an order test for us.\n\n"
      ]
    },
    {
      "cell_type": "code",
      "execution_count": null,
      "metadata": {
        "collapsed": false
      },
      "outputs": [],
      "source": [
        "def get_error(n_cells, plot_it=False):\n    # Create a mesh with a certain number of cells on the [0, 1] square\n    mesh = discretize.TensorMesh([n_cells, n_cells])\n    h = mesh.nodes_x[1] - mesh.nodes_x[0]\n\n    # evaluate our boundary conditions, the sigma model, and\n    # the forcing function.\n    u_b = u_func(*mesh.boundary_nodes.T)\n    sig_cc = sig_func(*mesh.cell_centers.T)\n    f_n = f_func(*mesh.nodes.T)\n\n    # Get the finite volume operators for the mesh\n    G = mesh.nodal_gradient\n    M_e_sigma = mesh.get_edge_inner_product(sig_cc)\n    M_n = sp.diags(mesh.average_node_to_cell.T @ mesh.cell_volumes)\n\n    # Determin which mesh nodes are on the boundary, and which are interior\n    is_boundary = np.zeros(mesh.n_nodes, dtype=bool)\n    is_boundary[mesh.project_node_to_boundary_node.indices] = True\n\n    # construct the projection matrices\n    P_b = sp.eye(mesh.n_nodes, format=\"csc\")[:, is_boundary]\n    P_f = sp.eye(mesh.n_nodes, format=\"csc\")[:, ~is_boundary]\n\n    # Assemble the solution matrix and rhs.\n    A = P_f.T @ G.T @ M_e_sigma @ G @ P_f\n    rhs = P_f.T @ M_n @ f_n - P_f.T @ G.T @ M_e_sigma @ G @ P_b @ u_b\n\n    # Solve for the value of u on the free nodes, then project\n    # with the boundary conditions to obtain the solution on\n    # all nodes.\n    u_f = sp.linalg.spsolve(A, rhs)\n    u_sol = P_f @ u_f + P_b @ u_b\n\n    # Since we know the true solution we can check the error\n    # which we expect to be second order accurate.\n    u_true = u_func(*mesh.nodes.T)\n    err = np.linalg.norm(u_sol - u_true, ord=np.inf)\n\n    # Add some codes for us to use this function to plot the solution.\n    if plot_it:\n        ax = plt.subplot(121)\n        (im,) = mesh.plot_image(u_sol, v_type=\"N\", ax=ax)\n        ax.set_title(\"Numerical Solution\")\n        ax.set_aspect(\"equal\")\n        plt.colorbar(im, shrink=0.3)\n\n        ax = plt.subplot(122)\n        (im,) = mesh.plot_image(u_sol - u_true, v_type=\"N\", ax=ax)\n        ax.set_title(\"Error\")\n        ax.set_aspect(\"equal\")\n        plt.colorbar(im, shrink=0.3)\n        plt.tight_layout()\n        plt.show()\n    else:\n        return err, h"
      ]
    },
    {
      "cell_type": "markdown",
      "metadata": {},
      "source": [
        "Lets look at the solution itself!\n\n"
      ]
    },
    {
      "cell_type": "code",
      "execution_count": null,
      "metadata": {
        "collapsed": false
      },
      "outputs": [],
      "source": [
        "get_error(20, plot_it=True)"
      ]
    },
    {
      "cell_type": "markdown",
      "metadata": {},
      "source": [
        "## Order Testing\nTo verify our discretization strategy we will use the above function to perform a\nconvergence test. We make use of the `assert_expected_order` function to print out\na convergence table. This will raise an error if our convergence is not what we\nexpect.\n\n"
      ]
    },
    {
      "cell_type": "code",
      "execution_count": null,
      "metadata": {
        "collapsed": false
      },
      "outputs": [],
      "source": [
        "tests.assert_expected_order(get_error, [10, 20, 30, 40, 50])"
      ]
    }
  ],
  "metadata": {
    "kernelspec": {
      "display_name": "Python 3",
      "language": "python",
      "name": "python3"
    },
    "language_info": {
      "codemirror_mode": {
        "name": "ipython",
        "version": 3
      },
      "file_extension": ".py",
      "mimetype": "text/x-python",
      "name": "python",
      "nbconvert_exporter": "python",
      "pygments_lexer": "ipython3",
      "version": "3.10.13"
    }
  },
  "nbformat": 4,
  "nbformat_minor": 0
}