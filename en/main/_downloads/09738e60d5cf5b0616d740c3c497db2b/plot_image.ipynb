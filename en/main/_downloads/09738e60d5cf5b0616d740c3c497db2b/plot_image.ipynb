{
  "cells": [
    {
      "cell_type": "code",
      "execution_count": null,
      "metadata": {
        "collapsed": false
      },
      "outputs": [],
      "source": [
        "%matplotlib inline"
      ]
    },
    {
      "cell_type": "markdown",
      "metadata": {},
      "source": [
        "\n# Basic: PlotImage\n\nYou can use M.PlotImage to plot images on all of the Meshes.\n"
      ]
    },
    {
      "cell_type": "code",
      "execution_count": null,
      "metadata": {
        "collapsed": false
      },
      "outputs": [],
      "source": [
        "import discretize\nimport matplotlib.pyplot as plt\n\n\ndef run(plotIt=True):\n    M = discretize.TensorMesh([32, 32])\n    v = discretize.utils.random_model(M.vnC, seed=789)\n    v = discretize.utils.mkvc(v)\n\n    O = discretize.TreeMesh([32, 32])\n\n    def function(cell):\n        if (\n            cell.center[0] < 0.75\n            and cell.center[0] > 0.25\n            and cell.center[1] < 0.75\n            and cell.center[1] > 0.25\n        ):\n            return 5\n        if (\n            cell.center[0] < 0.9\n            and cell.center[0] > 0.1\n            and cell.center[1] < 0.9\n            and cell.center[1] > 0.1\n        ):\n            return 4\n        return 3\n\n    O.refine(function)\n\n    P = M.getInterpolationMat(O.gridCC, \"CC\")\n\n    ov = P * v\n\n    if not plotIt:\n        return\n\n    fig, axes = plt.subplots(1, 2, figsize=(10, 5))\n\n    out = M.plotImage(v, grid=True, ax=axes[0])\n    cb = plt.colorbar(out[0], ax=axes[0])\n    cb.set_label(\"Random Field\")\n    axes[0].set_title(\"TensorMesh\")\n\n    out = O.plotImage(ov, grid=True, ax=axes[1], clim=[0, 1])\n    cb = plt.colorbar(out[0], ax=axes[1])\n    cb.set_label(\"Random Field\")\n    axes[1].set_title(\"TreeMesh\")\n\n\nif __name__ == \"__main__\":\n    run()\n    plt.show()"
      ]
    }
  ],
  "metadata": {
    "kernelspec": {
      "display_name": "Python 3",
      "language": "python",
      "name": "python3"
    },
    "language_info": {
      "codemirror_mode": {
        "name": "ipython",
        "version": 3
      },
      "file_extension": ".py",
      "mimetype": "text/x-python",
      "name": "python",
      "nbconvert_exporter": "python",
      "pygments_lexer": "ipython3",
      "version": "3.8.5"
    }
  },
  "nbformat": 4,
  "nbformat_minor": 0
}