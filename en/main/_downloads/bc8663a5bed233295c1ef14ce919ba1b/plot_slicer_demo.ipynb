{
  "cells": [
    {
      "cell_type": "markdown",
      "metadata": {},
      "source": [
        "\n# Slicer demo\n\nThe example demonstrates the `plot_3d_slicer`\n\n- contributed by [@prisae](https://github.com/prisae)\n\nUsing the inversion result from the example notebook\n[plot_laguna_del_maule_inversion.ipynb](http://docs.simpeg.xyz/content/examples/20-published/plot_laguna_del_maule_inversion.html)\n\nYou have to use :code:`%matplotlib notebook` in Jupyter Notebook, and\n:code:`%matplotlib widget` in Jupyter Lab (latter requires the package\n``ipympl``).\n"
      ]
    },
    {
      "cell_type": "code",
      "execution_count": null,
      "metadata": {
        "collapsed": false
      },
      "outputs": [],
      "source": [
        "# %matplotlib notebook\n# %matplotlib widget\nimport discretize\nimport numpy as np\nimport matplotlib.pyplot as plt\nfrom matplotlib.colors import SymLogNorm\nimport pooch"
      ]
    },
    {
      "cell_type": "markdown",
      "metadata": {},
      "source": [
        "## Download and load data\n\nIn the following we load the :code:`mesh` and :code:`Lpout` that you would\nget from running the laguna-del-maule inversion notebook.\n\n"
      ]
    },
    {
      "cell_type": "code",
      "execution_count": null,
      "metadata": {
        "collapsed": false
      },
      "outputs": [],
      "source": [
        "model_url = \"https://storage.googleapis.com/simpeg/laguna_del_maule_slicer.tar.gz\"\ndownloaded_items = pooch.retrieve(\n    model_url,\n    known_hash=\"107293bfdeb77b314f4cb451a24c2c93a55aae40da28f43cf3c075d71acfb957\",\n    processor=pooch.Untar(),\n)\nmesh_path = next(filter(lambda f: f.endswith(\"mesh.json\"), downloaded_items))\nmodel_path = next(filter(lambda f: f.endswith(\"Lpout.npy\"), downloaded_items))\n\n# Load the mesh and model\nmesh = discretize.load_mesh(mesh_path)\nLpout = np.load(model_path)"
      ]
    },
    {
      "cell_type": "markdown",
      "metadata": {},
      "source": [
        "## Case 1: Using the intrinsinc functionality\n\n### 1.1 Default options\n\n"
      ]
    },
    {
      "cell_type": "code",
      "execution_count": null,
      "metadata": {
        "collapsed": false
      },
      "outputs": [],
      "source": [
        "mesh.plot_3d_slicer(Lpout)\nplt.show()"
      ]
    },
    {
      "cell_type": "markdown",
      "metadata": {},
      "source": [
        "### 1.2 Create a function to improve plots, labeling after creation\n\nDepending on your data the default option might look a bit odd. The look\nof the figure can be improved by getting its handle and adjust it.\n\n"
      ]
    },
    {
      "cell_type": "code",
      "execution_count": null,
      "metadata": {
        "collapsed": false
      },
      "outputs": [],
      "source": [
        "def beautify(title, fig=None):\n    \"\"\"Beautify the 3D Slicer result.\"\"\"\n\n    # Get figure handle if not provided\n    if fig is None:\n        fig = plt.gcf()\n\n    # Get principal figure axes\n    axs = fig.get_children()\n\n    # Set figure title\n    fig.suptitle(title, y=0.95, va=\"center\")\n\n    # Adjust the y-labels on the first subplot (XY)\n    plt.setp(axs[1].yaxis.get_majorticklabels(), rotation=90)\n    for label in axs[1].yaxis.get_ticklabels():\n        label.set_visible(False)\n    for label in axs[1].yaxis.get_ticklabels()[::3]:\n        label.set_visible(True)\n    axs[1].set_ylabel(\"Northing (m)\")\n\n    # Adjust x- and y-labels on the second subplot (XZ)\n    axs[2].set_xticks([357500, 362500, 367500])\n    axs[2].set_xlabel(\"Easting (m)\")\n\n    plt.setp(axs[2].yaxis.get_majorticklabels(), rotation=90)\n    axs[2].set_yticks([2500, 0, -2500, -5000])\n    axs[2].set_yticklabels([\"$2.5$\", \"0.0\", \"-2.5\", \"-5.0\"])\n    axs[2].set_ylabel(\"Elevation (km)\")\n\n    # Adjust x-labels on the third subplot (ZY)\n    axs[3].set_xticks([2500, 0, -2500, -5000])\n    axs[3].set_xticklabels([\"\", \"0.0\", \"-2.5\", \"-5.0\"])\n\n    # Adjust colorbar\n    axs[4].set_ylabel(\"Density (g/cc$^3$)\")\n\n    # Ensure sufficient margins so nothing is clipped\n    plt.subplots_adjust(bottom=0.1, top=0.9, left=0.1, right=0.9)"
      ]
    },
    {
      "cell_type": "code",
      "execution_count": null,
      "metadata": {
        "collapsed": false
      },
      "outputs": [],
      "source": [
        "mesh.plot_3d_slicer(Lpout)\nbeautify(\"mesh.plot_3d_slicer(Lpout)\")\nplt.show()"
      ]
    },
    {
      "cell_type": "markdown",
      "metadata": {},
      "source": [
        "### 1.3 Set `xslice`, `yslice`, and `zslice`; transparent region\n\nThe 2nd-4th input arguments are the initial x-, y-, and z-slice location\n(they default to the middle of the volume). The transparency-parameter can\nbe used to define transparent regions.\n\n"
      ]
    },
    {
      "cell_type": "code",
      "execution_count": null,
      "metadata": {
        "collapsed": false
      },
      "outputs": [],
      "source": [
        "mesh.plot_3d_slicer(Lpout, 370000, 6002500, -2500, transparent=[[-0.02, 0.1]])\nbeautify(\n    \"mesh.plot_3d_slicer(\"\n    \"\\nLpout, 370000, 6002500, -2500, transparent=[[-0.02, 0.1]])\"\n)\nplt.show()"
      ]
    },
    {
      "cell_type": "markdown",
      "metadata": {},
      "source": [
        "### 1.4 Set `clim`, use `pcolor_opts` to show grid lines\n\n"
      ]
    },
    {
      "cell_type": "code",
      "execution_count": null,
      "metadata": {
        "collapsed": false
      },
      "outputs": [],
      "source": [
        "mesh.plot_3d_slicer(\n    Lpout, clim=[-0.4, 0.2], pcolor_opts={\"edgecolor\": \"k\", \"linewidth\": 0.1}\n)\nbeautify(\n    \"mesh.plot_3d_slicer(\\nLpout, clim=[-0.4, 0.2], \"\n    \"pcolor_opts={'edgecolor': 'k', 'linewidth': 0.1})\"\n)\nplt.show()"
      ]
    },
    {
      "cell_type": "markdown",
      "metadata": {},
      "source": [
        "### 1.5 Use `pcolor_opts` to set `SymLogNorm`, and another `cmap`\n\n"
      ]
    },
    {
      "cell_type": "code",
      "execution_count": null,
      "metadata": {
        "collapsed": false
      },
      "outputs": [],
      "source": [
        "mesh.plot_3d_slicer(\n    Lpout, pcolor_opts={\"norm\": SymLogNorm(linthresh=0.01), \"cmap\": \"RdBu_r\"}\n)\nbeautify(\n    \"mesh.plot_3d_slicer(Lpout,\"\n    \"\\npcolor_opts={'norm': SymLogNorm(linthresh=0.01),'cmap': 'RdBu_r'})`\"\n)\nplt.show()"
      ]
    },
    {
      "cell_type": "markdown",
      "metadata": {},
      "source": [
        "### 1.6 Use :code:`aspect` and :code:`grid`\n\nBy default, :code:`aspect='auto'` and :code:`grid=[2, 2, 1]`. This means that\nthe figure is on a 3x3 grid, where the `xy`-slice occupies 2x2 cells of the\nsubplot-grid, `xz`-slice 2x1, and the `zy`-silce 1x2. So the\n:code:`grid=[x, y, z]`-parameter takes the number of cells for `x`, `y`, and\n`z`-dimension.\n\n:code:`grid` can be used to improve the probable weired subplot-arrangement\nif :code:`aspect` is anything else than :code:`auto`. However, if you zoom\nthen it won't help. Expect the unexpected.\n\n"
      ]
    },
    {
      "cell_type": "code",
      "execution_count": null,
      "metadata": {
        "collapsed": false
      },
      "outputs": [],
      "source": [
        "mesh.plot_3d_slicer(Lpout, aspect=[\"equal\", 1.5], grid=[4, 4, 3])\nbeautify(\"mesh.plot_3d_slicer(Lpout, aspect=['equal', 1.5], grid=[4, 4, 3])\")\nplt.show()"
      ]
    },
    {
      "cell_type": "markdown",
      "metadata": {},
      "source": [
        "### 1.7 Transparency-slider\n\nSetting the transparent-parameter to 'slider' will create interactive sliders\nto change which range of values of the data is visible.\n\n"
      ]
    },
    {
      "cell_type": "code",
      "execution_count": null,
      "metadata": {
        "collapsed": false
      },
      "outputs": [],
      "source": [
        "mesh.plot_3d_slicer(Lpout, transparent=\"slider\")\nbeautify(\"mesh.plot_3d_slicer(Lpout, transparent='slider')\")\nplt.show()"
      ]
    },
    {
      "cell_type": "markdown",
      "metadata": {},
      "source": [
        "## Case 2: Just using the Slicer class\n\nThis way you get the figure-handle, and can do further stuff with the figure.\n\n"
      ]
    },
    {
      "cell_type": "code",
      "execution_count": null,
      "metadata": {
        "collapsed": false
      },
      "outputs": [],
      "source": [
        "# You have to initialize a figure\nfig = plt.figure()\n\n# Then you have to get the tracker from the Slicer\ntracker = discretize.mixins.Slicer(mesh, Lpout)\n\n# Finally you have to connect the tracker to the figure\nfig.canvas.mpl_connect(\"scroll_event\", tracker.onscroll)\n\n# Run it through beautify\nbeautify(\"'discretize.mixins.Slicer' together with\\n'fig.canvas.mpl_connect'\", fig)\n\nplt.show()"
      ]
    }
  ],
  "metadata": {
    "kernelspec": {
      "display_name": "Python 3",
      "language": "python",
      "name": "python3"
    },
    "language_info": {
      "codemirror_mode": {
        "name": "ipython",
        "version": 3
      },
      "file_extension": ".py",
      "mimetype": "text/x-python",
      "name": "python",
      "nbconvert_exporter": "python",
      "pygments_lexer": "ipython3",
      "version": "3.11.10"
    }
  },
  "nbformat": 4,
  "nbformat_minor": 0
}