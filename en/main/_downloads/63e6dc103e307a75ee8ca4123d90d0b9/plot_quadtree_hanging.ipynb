{
  "cells": [
    {
      "cell_type": "code",
      "execution_count": null,
      "metadata": {
        "collapsed": false
      },
      "outputs": [],
      "source": [
        "%matplotlib inline"
      ]
    },
    {
      "cell_type": "markdown",
      "metadata": {},
      "source": [
        "\n# QuadTree: Hanging Nodes\n\nYou can give the refine method a function, which is evaluated on every\ncell of the TreeMesh.\n\nOccasionally it is useful to initially refine to a constant level\n(e.g. 3 in this 32x32 mesh). This means the function is first evaluated\non an 8x8 mesh (2^3).\n"
      ]
    },
    {
      "cell_type": "code",
      "execution_count": null,
      "metadata": {
        "collapsed": false
      },
      "outputs": [],
      "source": [
        "import discretize\nimport matplotlib.pyplot as plt\n\n\ndef run(plotIt=True):\n    M = discretize.TreeMesh([8, 8])\n\n    def refine(cell):\n        xyz = cell.center\n        dist = ((xyz - [0.25, 0.25]) ** 2).sum() ** 0.5\n        if dist < 0.25:\n            return 3\n        return 2\n\n    M.refine(refine)\n    if plotIt:\n        M.plotGrid(nodes=True, centers=True, faces_x=True)\n        plt.legend(\n            (\n                \"Nodes\",\n                \"Hanging Nodes\",\n                \"Cell Centers\",\n                \"X faces\",\n                \"Hanging X faces\",\n                \"Grid\",\n            )\n        )\n\n\nif __name__ == \"__main__\":\n    run()\n    plt.show()"
      ]
    }
  ],
  "metadata": {
    "kernelspec": {
      "display_name": "Python 3",
      "language": "python",
      "name": "python3"
    },
    "language_info": {
      "codemirror_mode": {
        "name": "ipython",
        "version": 3
      },
      "file_extension": ".py",
      "mimetype": "text/x-python",
      "name": "python",
      "nbconvert_exporter": "python",
      "pygments_lexer": "ipython3",
      "version": "3.8.5"
    }
  },
  "nbformat": 4,
  "nbformat_minor": 0
}