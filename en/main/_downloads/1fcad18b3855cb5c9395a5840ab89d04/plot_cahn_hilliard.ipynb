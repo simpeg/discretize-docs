{
  "cells": [
    {
      "cell_type": "code",
      "execution_count": null,
      "metadata": {
        "collapsed": false
      },
      "outputs": [],
      "source": [
        "%matplotlib inline"
      ]
    },
    {
      "cell_type": "markdown",
      "metadata": {},
      "source": [
        "\n# Operators: Cahn Hilliard\n\nThis example is based on the example in the FiPy_ library.\nPlease see their documentation for more information about the\nCahn-Hilliard equation.\n\nThe \"Cahn-Hilliard\" equation separates a field \\\\( \\\\phi \\\\)\ninto 0 and 1 with smooth transitions.\n\n\\begin{align}\\frac{\\partial \\phi}{\\partial t} = \\nabla \\cdot D \\nabla \\left( \\frac{\\partial f}{\\partial \\phi} - \\epsilon^2 \\nabla^2 \\phi \\right)\\end{align}\n\nWhere \\\\( f \\\\) is the energy function \\\\( f = ( a^2 / 2 )\\\\phi^2(1 - \\\\phi)^2 \\\\)\nwhich drives \\\\( \\\\phi \\\\) towards either 0 or 1, this competes with the term\n\\\\(\\\\epsilon^2 \\\\nabla^2 \\\\phi \\\\) which is a diffusion term that creates smooth changes in \\\\( \\\\phi \\\\).\nThe equation can be factored:\n\n\\begin{align}\\frac{\\partial \\phi}{\\partial t} = \\nabla \\cdot D \\nabla \\psi \\\\\n    \\psi = \\frac{\\partial^2 f}{\\partial \\phi^2} (\\phi - \\phi^{\\text{old}}) + \\frac{\\partial f}{\\partial \\phi} - \\epsilon^2 \\nabla^2 \\phi\\end{align}\n\nHere we will need the derivatives of \\\\( f \\\\):\n\n\\begin{align}\\frac{\\partial f}{\\partial \\phi} = (a^2/2)2\\phi(1-\\phi)(1-2\\phi)\n    \\frac{\\partial^2 f}{\\partial \\phi^2} = (a^2/2)2[1-6\\phi(1-\\phi)]\\end{align}\n\nThe implementation below uses backwards Euler in time with an\nexponentially increasing time step. The initial \\\\( \\\\phi \\\\)\nis a normally distributed field with a standard deviation of 0.1 and\nmean of 0.5. The grid is 60x60 and takes a few seconds to solve ~130\ntimes. The results are seen below, and you can see the field separating\nas the time increases.\n\n\n.. http://www.ctcms.nist.gov/fipy/examples/cahnHilliard/generated/examples.cahnHilliard.mesh2DCoupled.html\n"
      ]
    },
    {
      "cell_type": "code",
      "execution_count": null,
      "metadata": {
        "collapsed": false
      },
      "outputs": [],
      "source": [
        "import discretize\nfrom pymatsolver import Solver\nimport numpy as np\nimport matplotlib.pyplot as plt\n\n\ndef run(plotIt=True, n=60):\n\n    np.random.seed(5)\n\n    # Here we are going to rearrange the equations:\n\n    # (phi_ - phi)/dt = A*(d2fdphi2*(phi_ - phi) + dfdphi - L*phi_)\n    # (phi_ - phi)/dt = A*(d2fdphi2*phi_ - d2fdphi2*phi + dfdphi - L*phi_)\n    # (phi_ - phi)/dt = A*d2fdphi2*phi_ + A*( - d2fdphi2*phi + dfdphi - L*phi_)\n    # phi_ - phi = dt*A*d2fdphi2*phi_ + dt*A*(- d2fdphi2*phi + dfdphi - L*phi_)\n    # phi_ - dt*A*d2fdphi2 * phi_ =  dt*A*(- d2fdphi2*phi + dfdphi - L*phi_) + phi\n    # (I - dt*A*d2fdphi2) * phi_ =  dt*A*(- d2fdphi2*phi + dfdphi - L*phi_) + phi\n    # (I - dt*A*d2fdphi2) * phi_ =  dt*A*dfdphi - dt*A*d2fdphi2*phi - dt*A*L*phi_ + phi\n    # (dt*A*d2fdphi2 - I) * phi_ =  dt*A*d2fdphi2*phi + dt*A*L*phi_ - phi - dt*A*dfdphi\n    # (dt*A*d2fdphi2 - I - dt*A*L) * phi_ =  (dt*A*d2fdphi2 - I)*phi - dt*A*dfdphi\n\n    h = [(0.25, n)]\n    M = discretize.TensorMesh([h, h])\n\n    # Constants\n    D = a = epsilon = 1.0\n    I = discretize.utils.speye(M.nC)\n\n    # Operators\n    A = D * M.faceDiv * M.cellGrad\n    L = epsilon ** 2 * M.faceDiv * M.cellGrad\n\n    duration = 75\n    elapsed = 0.0\n    dexp = -5\n    phi = np.random.normal(loc=0.5, scale=0.01, size=M.nC)\n    ii, jj = 0, 0\n    PHIS = []\n    capture = np.logspace(-1, np.log10(duration), 8)\n    while elapsed < duration:\n        dt = min(100, np.exp(dexp))\n        elapsed += dt\n        dexp += 0.05\n\n        dfdphi = a ** 2 * 2 * phi * (1 - phi) * (1 - 2 * phi)\n        d2fdphi2 = discretize.utils.sdiag(a ** 2 * 2 * (1 - 6 * phi * (1 - phi)))\n\n        MAT = dt * A * d2fdphi2 - I - dt * A * L\n        rhs = (dt * A * d2fdphi2 - I) * phi - dt * A * dfdphi\n        phi = Solver(MAT) * rhs\n\n        if elapsed > capture[jj]:\n            PHIS += [(elapsed, phi.copy())]\n            jj += 1\n        if ii % 10 == 0:\n            print(ii, elapsed)\n        ii += 1\n\n    if plotIt:\n        fig, axes = plt.subplots(2, 4, figsize=(14, 6))\n        axes = np.array(axes).flatten().tolist()\n        for ii, ax in zip(np.linspace(0, len(PHIS) - 1, len(axes)), axes):\n            ii = int(ii)\n            M.plotImage(PHIS[ii][1], ax=ax)\n            ax.axis(\"off\")\n            ax.set_title(\"Elapsed Time: {0:4.1f}\".format(PHIS[ii][0]))\n\n\nif __name__ == \"__main__\":\n    run()\n    plt.show()"
      ]
    }
  ],
  "metadata": {
    "kernelspec": {
      "display_name": "Python 3",
      "language": "python",
      "name": "python3"
    },
    "language_info": {
      "codemirror_mode": {
        "name": "ipython",
        "version": 3
      },
      "file_extension": ".py",
      "mimetype": "text/x-python",
      "name": "python",
      "nbconvert_exporter": "python",
      "pygments_lexer": "ipython3",
      "version": "3.8.5"
    }
  },
  "nbformat": 4,
  "nbformat_minor": 0
}