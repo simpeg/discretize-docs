{
  "cells": [
    {
      "cell_type": "code",
      "execution_count": null,
      "metadata": {
        "collapsed": false
      },
      "outputs": [],
      "source": [
        "%matplotlib inline"
      ]
    },
    {
      "cell_type": "markdown",
      "metadata": {},
      "source": [
        "\n# Basic: plot_slice\n\nYou can use M.plot_slice to plot images.\n"
      ]
    },
    {
      "cell_type": "code",
      "execution_count": null,
      "metadata": {
        "collapsed": false
      },
      "outputs": [],
      "source": [
        "import discretize\nimport matplotlib.pyplot as plt\nimport numpy as np\n\ndef run(plotIt=True):\n    M = discretize.TensorMesh([32, 32, 32])\n    v = discretize.utils.random_model(M.vnC, seed=789)\n    v = discretize.utils.mkvc(v)\n\n    O = discretize.TreeMesh([32, 32,32])\n\n    def function(cell):\n        if (\n            cell.center[0] < 0.75\n            and cell.center[0] > 0.25\n            and cell.center[1] < 0.75\n            and cell.center[1] > 0.25\n            and cell.center[2] < 0.75\n            and cell.center[2] > 0.25\n        ):\n            return 6\n        if (\n            cell.center[0] < 0.85\n            and cell.center[0] > 0.15\n            and cell.center[1] < 0.85\n            and cell.center[1] > 0.15\n            and cell.center[2] < 0.85\n            and cell.center[2] > 0.15\n        ):\n            return 5\n        if (\n            cell.center[0] < 0.9\n            and cell.center[0] > 0.1\n            and cell.center[1] < 0.9\n            and cell.center[1] > 0.1\n            and cell.center[2] < 0.9\n            and cell.center[2] > 0.1\n        ):\n            return 4\n        return 3\n\n    O.refine(function)\n\n    P = M.getInterpolationMat(O.gridCC, \"CC\")\n\n    ov = P * v\n\n    if not plotIt:\n        return\n\n    xslice = 0.75\n    yslice = 0.25\n    zslice = 0.9\n    print('xslice index:',int(np.argmin(np.abs(M.cell_centers_x - xslice))))\n    print('yslice index:',int(np.argmin(np.abs(M.cell_centers_y - yslice))))\n    print('zslice index:',int(np.argmin(np.abs(M.cell_centers_z - zslice))))\n\n    fig, axes = plt.subplots(1, 3, figsize=(10, 5))\n    out = M.plot_slice(v, ax=axes[0], normal='X', ind=23)\n    cb = plt.colorbar(out[0], ax=axes[0])\n    cb.set_label(\"Random Field\")\n    axes[0].set_title(\"x-normal slice\")\n\n    out = M.plot_slice(v, ax=axes[1], normal='Y', ind=7)\n    cb = plt.colorbar(out[0], ax=axes[1])\n    cb.set_label(\"Random Field\")\n    axes[1].set_title(\"y-normal slice\")\n\n    out = M.plot_slice(v, ax=axes[2], normal='Z', ind=28)\n    cb = plt.colorbar(out[0], ax=axes[2])\n    cb.set_label(\"Random Field\")\n    axes[2].set_title(\"z-normal slice\")\n\n    ## Now with slice_loc\n\n    fig, axes = plt.subplots(1, 3, figsize=(10, 5))\n    out = M.plot_slice(v, ax=axes[0], normal='X', slice_loc=xslice)\n    cb = plt.colorbar(out[0], ax=axes[0])\n    cb.set_label(\"Random Field\")\n    axes[0].set_title(\"x-normal slice\")\n\n    out = M.plot_slice(v, ax=axes[1], normal='Y', slice_loc=yslice)\n    cb = plt.colorbar(out[0], ax=axes[1])\n    cb.set_label(\"Random Field\")\n    axes[1].set_title(\"y-normal slice\")\n\n    out = M.plot_slice(v, ax=axes[2], normal='Z', slice_loc=zslice)\n    cb = plt.colorbar(out[0], ax=axes[2])\n    cb.set_label(\"Random Field\")\n    axes[2].set_title(\"z-normal slice\")\n\n    # try it on a TreeMesh\n    fig, axes = plt.subplots(1, 3, figsize=(10, 5))\n    out = O.plot_slice(ov, ax=axes[0], normal='X', slice_loc=xslice)\n    cb = plt.colorbar(out[0], ax=axes[0])\n    cb.set_label(\"Random Field\")\n    axes[0].set_title(\"x-normal slice\")\n\n    out = O.plot_slice(ov, ax=axes[1], normal='Y', slice_loc=yslice)\n    cb = plt.colorbar(out[0], ax=axes[1])\n    cb.set_label(\"Random Field\")\n    axes[1].set_title(\"y-normal slice\")\n\n    out = O.plot_slice(ov, ax=axes[2], normal='Z', slice_loc=zslice)\n    cb = plt.colorbar(out[0], ax=axes[2])\n    cb.set_label(\"Random Field\")\n    axes[2].set_title(\"z-normal slice\")\n\nif __name__ == \"__main__\":\n    run()\n    plt.show()"
      ]
    }
  ],
  "metadata": {
    "kernelspec": {
      "display_name": "Python 3",
      "language": "python",
      "name": "python3"
    },
    "language_info": {
      "codemirror_mode": {
        "name": "ipython",
        "version": 3
      },
      "file_extension": ".py",
      "mimetype": "text/x-python",
      "name": "python",
      "nbconvert_exporter": "python",
      "pygments_lexer": "ipython3",
      "version": "3.8.5"
    }
  },
  "nbformat": 4,
  "nbformat_minor": 0
}