{
  "cells": [
    {
      "cell_type": "code",
      "execution_count": null,
      "metadata": {
        "collapsed": false
      },
      "outputs": [],
      "source": [
        "%matplotlib inline"
      ]
    },
    {
      "cell_type": "markdown",
      "metadata": {},
      "source": [
        "\n# Plotting: Streamline thickness\n\nA simple example to vary streamline thickness based on the vector amplitudes\n\nAuthor: `@micmitch <https://github.com/micmitch>`\n"
      ]
    },
    {
      "cell_type": "code",
      "execution_count": null,
      "metadata": {
        "collapsed": false
      },
      "outputs": [],
      "source": [
        "import numpy as np\nimport matplotlib.pyplot as plt\n\nfrom discretize import TensorMesh"
      ]
    },
    {
      "cell_type": "markdown",
      "metadata": {},
      "source": [
        "## Create mesh\n\nMinimum cell size in each direction\n\n"
      ]
    },
    {
      "cell_type": "code",
      "execution_count": null,
      "metadata": {
        "collapsed": false
      },
      "outputs": [],
      "source": [
        "dx = 1.0\ndy = 1.0\ndz = 1.0\n\n# Number of core cells in each direction\nnCoreX = 43.0\nnCoreY = 43.0\nnCoreZ = 43.0\n\n# Cell widths\nhx = [(dx, nCoreX)]\nhy = [(dy, nCoreY)]\nhz = [(dz, nCoreZ)]\n\n# Desired Core mesh origin (Bottom SW corner)\nx0 = -21.5\ny0 = -21.5\nz0 = -21.5\n\nmesh = TensorMesh([hx, hy, hz], [x0, y0, z0])\nprint(mesh.nC)"
      ]
    },
    {
      "cell_type": "markdown",
      "metadata": {},
      "source": [
        "## Define arbitrary function to plot\n\n\n"
      ]
    },
    {
      "cell_type": "code",
      "execution_count": null,
      "metadata": {
        "collapsed": false
      },
      "outputs": [],
      "source": [
        "X = mesh.gridCC[:, 0]\nY = mesh.gridCC[:, 1]\nZ = mesh.gridCC[:, 2]\n\nU = -1 - X ** 2 + Y + Z\nV = 1 + X - Y ** 2 + Z\nW = 1 + X + Y - Z ** 2"
      ]
    },
    {
      "cell_type": "markdown",
      "metadata": {},
      "source": [
        "## Plot streamlines\n\nCreate figure\n\n"
      ]
    },
    {
      "cell_type": "code",
      "execution_count": null,
      "metadata": {
        "collapsed": false
      },
      "outputs": [],
      "source": [
        "fig = plt.figure()\nax = plt.subplot(111)\nfig.set_figheight(15)\nfig.set_figwidth(15)\nlabelsize = 30.0\nticksize = 30.0\n\n# Create data vector\ndataVec = np.hstack([U, V, W])\nprint(dataVec.shape)\n\n# Set streamline plotting options\nstream_opts = {\"color\": \"w\", \"density\": 2.0}\npcolor_opts = {\"cmap\": \"viridis\"}\n\ndat = mesh.plotSlice(\n    dataVec,\n    ax=ax,\n    normal=\"Z\",\n    ind=5,\n    v_type=\"CCv\",\n    view=\"vec\",\n    stream_opts=stream_opts,\n    grid_opts={\"color\": \"k\", \"alpha\": 0.1},\n    grid=True,\n    clim=None,\n    stream_thickness=3,\n)"
      ]
    },
    {
      "cell_type": "markdown",
      "metadata": {},
      "source": [
        "## Moving Forward\n\nIf you have suggestions for improving this example, please create a\npull request on the example in discretize\n\n"
      ]
    }
  ],
  "metadata": {
    "kernelspec": {
      "display_name": "Python 3",
      "language": "python",
      "name": "python3"
    },
    "language_info": {
      "codemirror_mode": {
        "name": "ipython",
        "version": 3
      },
      "file_extension": ".py",
      "mimetype": "text/x-python",
      "name": "python",
      "nbconvert_exporter": "python",
      "pygments_lexer": "ipython3",
      "version": "3.8.5"
    }
  },
  "nbformat": 4,
  "nbformat_minor": 0
}