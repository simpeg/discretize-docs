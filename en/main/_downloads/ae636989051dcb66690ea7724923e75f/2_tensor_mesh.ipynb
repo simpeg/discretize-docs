{
  "cells": [
    {
      "cell_type": "code",
      "execution_count": null,
      "metadata": {
        "collapsed": false
      },
      "outputs": [],
      "source": [
        "%matplotlib inline"
      ]
    },
    {
      "cell_type": "markdown",
      "metadata": {},
      "source": [
        "\n# Tensor meshes\n\nTensor meshes are the most basic class of meshes that can be created with\ndiscretize. They belong to the class (:class:`~discretize.TensorMesh`).\nTensor meshes can be defined in 1, 2 or 3 dimensions. Here we demonstrate:\n\n    - How to create basic tensor meshes\n    - How to include padding cells\n    - How to plot tensor meshes\n    - How to extract properties from meshes\n    \n"
      ]
    },
    {
      "cell_type": "markdown",
      "metadata": {},
      "source": [
        "## Import Packages\n\nHere we import the packages required for this tutorial.\n\n\n"
      ]
    },
    {
      "cell_type": "code",
      "execution_count": null,
      "metadata": {
        "collapsed": false
      },
      "outputs": [],
      "source": [
        "from discretize import TensorMesh\nimport matplotlib.pyplot as plt\nimport numpy as np\n\n# sphinx_gallery_thumbnail_number = 3"
      ]
    },
    {
      "cell_type": "markdown",
      "metadata": {},
      "source": [
        "## Basic Example\n\nThe easiest way to define a tensor mesh is to define the cell widths in\nx, y and z as 1D numpy arrays. And to provide the position of the bottom\nsouthwest corner of the mesh. We demonstrate this here for a 2D mesh (thus\nwe do not need to consider the z-dimension).\n\n\n"
      ]
    },
    {
      "cell_type": "code",
      "execution_count": null,
      "metadata": {
        "collapsed": false
      },
      "outputs": [],
      "source": [
        "ncx = 10  # number of core mesh cells in x\nncy = 15  # number of core mesh cells in y\ndx = 15  # base cell width x\ndy = 10  # base cell width y\nhx = dx * np.ones(ncx)\nhy = dy * np.ones(ncy)\n\nx0 = 0\ny0 = -150\n\nmesh = TensorMesh([hx, hy], x0=[x0, y0])\n\nmesh.plotGrid()"
      ]
    },
    {
      "cell_type": "markdown",
      "metadata": {},
      "source": [
        "## Padding Cells and Plotting\n\nFor practical purposes, the user may want to define a region where the cell\nwidths are increasing/decreasing in size. For example, padding is often used\nto define a large domain while reducing the total number of mesh cells.\nHere we demonstrate how to create tensor meshes that have padding cells.\n\n\n"
      ]
    },
    {
      "cell_type": "code",
      "execution_count": null,
      "metadata": {
        "collapsed": false
      },
      "outputs": [],
      "source": [
        "ncx = 10  # number of core mesh cells in x\nncy = 15  # number of core mesh cells in y\ndx = 15  # base cell width x\ndy = 10  # base cell width y\nnpad_x = 4  # number of padding cells in x\nnpad_y = 4  # number of padding cells in y\nexp_x = 1.25  # expansion rate of padding cells in x\nexp_y = 1.25  # expansion rate of padding cells in y\n\n# Use a list of tuples to define cell widths in each direction. Each tuple\n# contains the cell width, number of cells and the expansion factor. A\n# negative sign is used to indicate an interval where cells widths go\n# from largest to smallest.\nhx = [(dx, npad_x, -exp_x), (dx, ncx), (dx, npad_x, exp_x)]\nhy = [(dy, npad_y, -exp_y), (dy, ncy), (dy, npad_y, exp_y)]\n\n# We can use flags 'C', '0' and 'N' to shift the xyz position of the mesh\n# relative to the origin\nmesh = TensorMesh([hx, hy], x0=\"CN\")\n\n# We can apply the plotGrid method and output to a specified axes object\nfig = plt.figure(figsize=(6, 6))\nax = fig.add_subplot(111)\nmesh.plotGrid(ax=ax)\nax.set_xbound(mesh.x0[0], mesh.x0[0] + np.sum(mesh.hx))\nax.set_ybound(mesh.x0[1], mesh.x0[1] + np.sum(mesh.hy))\nax.set_title(\"Tensor Mesh\")"
      ]
    },
    {
      "cell_type": "markdown",
      "metadata": {},
      "source": [
        "## Extracting Mesh Properties\n\nOnce the mesh is created, you may want to extract certain properties. Here,\nwe show some properties that can be extracted from 2D meshes.\n\n\n"
      ]
    },
    {
      "cell_type": "code",
      "execution_count": null,
      "metadata": {
        "collapsed": false
      },
      "outputs": [],
      "source": [
        "ncx = 10  # number of core mesh cells in x\nncy = 15  # number of core mesh cells in y\ndx = 15  # base cell width x\ndy = 10  # base cell width y\nnpad_x = 4  # number of padding cells in x\nnpad_y = 4  # number of padding cells in y\nexp_x = 1.25  # expansion rate of padding cells in x\nexp_y = 1.25  # expansion rate of padding cells in y\n\nhx = [(dx, npad_x, -exp_x), (dx, ncx), (dx, npad_x, exp_x)]\nhy = [(dy, npad_y, -exp_y), (dy, ncy), (dy, npad_y, exp_y)]\n\nmesh = TensorMesh([hx, hy], x0=\"C0\")\n\n# The bottom west corner\nx0 = mesh.x0\n\n# The total number of cells\nnC = mesh.nC\n\n# An (nC, 2) array containing the cell-center locations\ncc = mesh.gridCC\n\n# A boolean array specifying which cells lie on the boundary\nbInd = mesh.cellBoundaryInd\n\n# Plot the cell areas (2D \"volume\")\ns = mesh.vol\n\nfig = plt.figure(figsize=(6, 6))\nax = fig.add_subplot(111)\nmesh.plotImage(s, grid=True, ax=ax)\nax.set_xbound(mesh.x0[0], mesh.x0[0] + np.sum(mesh.hx))\nax.set_ybound(mesh.x0[1], mesh.x0[1] + np.sum(mesh.hy))\nax.set_title(\"Cell Areas\")"
      ]
    },
    {
      "cell_type": "markdown",
      "metadata": {},
      "source": [
        "## 3D Example\n\nHere we show how the same approach can be used to create and extract\nproperties from a 3D tensor mesh.\n\n\n"
      ]
    },
    {
      "cell_type": "code",
      "execution_count": null,
      "metadata": {
        "collapsed": false
      },
      "outputs": [],
      "source": [
        "nc = 10  # number of core mesh cells in x, y and z\ndh = 10  # base cell width in x, y and z\nnpad = 5  # number of padding cells\nexp = 1.25  # expansion rate of padding cells\n\nh = [(dh, npad, -exp), (dh, nc), (dh, npad, exp)]\nmesh = TensorMesh([h, h, h], x0=\"C00\")\n\n# The bottom southwest corner\nx0 = mesh.x0\n\n# The total number of cells\nnC = mesh.nC\n\n# An (nC, 3) array containing the cell-center locations\ncc = mesh.gridCC\n\n# A boolean array specifying which cells lie on the boundary\nbInd = mesh.cellBoundaryInd\n\n# The cell volumes\nv = mesh.vol\n\n# Plot all cells volumes or plot cell volumes for a particular horizontal slice\nfig = plt.figure(figsize=(9, 4))\nax1 = fig.add_subplot(121)\nax2 = fig.add_subplot(122)\n\nmesh.plotImage(np.log10(v), grid=True, ax=ax1)\nax1.set_title(\"All Cell Log-Volumes\")\n\ncplot = mesh.plotSlice(np.log10(v), grid=True, ax=ax2, normal=\"Z\", ind=2)\ncplot[0].set_clim(np.min(np.log10(v)), np.max(np.log10(v)))\nax2.set_title(\"Cell Log-Volumes #2\")"
      ]
    }
  ],
  "metadata": {
    "kernelspec": {
      "display_name": "Python 3",
      "language": "python",
      "name": "python3"
    },
    "language_info": {
      "codemirror_mode": {
        "name": "ipython",
        "version": 3
      },
      "file_extension": ".py",
      "mimetype": "text/x-python",
      "name": "python",
      "nbconvert_exporter": "python",
      "pygments_lexer": "ipython3",
      "version": "3.8.12"
    }
  },
  "nbformat": 4,
  "nbformat_minor": 0
}