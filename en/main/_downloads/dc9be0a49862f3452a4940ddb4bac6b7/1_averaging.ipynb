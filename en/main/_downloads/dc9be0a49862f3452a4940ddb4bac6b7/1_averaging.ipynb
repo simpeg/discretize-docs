{
  "cells": [
    {
      "cell_type": "markdown",
      "metadata": {},
      "source": [
        "\n# Averaging Matricies\n\nAveraging matricies are used when a discrete variable living on some part of\nthe mesh (e.g. nodes, centers, edges or faces) must be approximated at other\nlocations. Averaging matricies are sparse and exist for 1D, 2D and\n3D meshes. For each mesh class (*Tensor mesh*, *Tree mesh*,\n*Curvilinear mesh*), the set of averaging matricies are properties that are\nonly constructed when called.\n\nHere we discuss:\n\n    - How to construct and apply averaging matricies\n    - Averaging matricies in 1D, 2D and 3D\n    - Averaging discontinuous functions\n    - The transpose of an averaging matrix\n"
      ]
    },
    {
      "cell_type": "markdown",
      "metadata": {},
      "source": [
        "## Import Packages\n\nHere we import the packages required for this tutorial.\n\n\n"
      ]
    },
    {
      "cell_type": "code",
      "execution_count": null,
      "metadata": {
        "collapsed": false
      },
      "outputs": [],
      "source": [
        "from discretize import TensorMesh\nimport matplotlib.pyplot as plt\nimport numpy as np\n\n# sphinx_gallery_thumbnail_number = 3"
      ]
    },
    {
      "cell_type": "markdown",
      "metadata": {},
      "source": [
        "## 1D Example\n\nHere we compute a scalar function on cell nodes and average to cell centers.\nWe then compute the scalar function at cell centers to validate the\naveraging operator.\n\n\n"
      ]
    },
    {
      "cell_type": "code",
      "execution_count": null,
      "metadata": {
        "collapsed": false
      },
      "outputs": [],
      "source": [
        "# Create a uniform grid\nh = 10 * np.ones(20)\nmesh = TensorMesh([h], \"C\")\n\n# Get node and cell center locations\nx_nodes = mesh.nodes_x\nx_centers = mesh.cell_centers_x\n\n\n# Define a continuous function\ndef fun(x):\n    return np.exp(-(x**2) / 50**2)\n\n\n# Compute function on nodes and cell centers\nv_nodes = fun(x_nodes)\nv_centers = fun(x_centers)\n\n# Create operator and average from nodes to cell centers\nA = mesh.aveN2CC\nv_approx = A * v_nodes\n\n# Compare\nfig = plt.figure(figsize=(12, 4))\nax1 = fig.add_axes([0.03, 0.01, 0.3, 0.91])\nax1.spy(A, markersize=5)\nax1.set_title(\"Sparse representation of A\", pad=10)\n\nax2 = fig.add_axes([0.4, 0.06, 0.55, 0.85])\nax2.plot(\n    x_centers,\n    v_centers,\n    \"b-\",\n    x_centers,\n    v_approx,\n    \"ko\",\n    x_centers,\n    np.c_[v_centers - v_approx],\n    \"r-\",\n)\nax2.set_title(\"Comparison plot\")\nax2.legend((\"evaluated at centers\", \"averaged from nodes\", \"absolute error\"))\n\nfig.show()"
      ]
    },
    {
      "cell_type": "markdown",
      "metadata": {},
      "source": [
        "## 1D, 2D and 3D Averaging\n\nHere we discuss averaging operators in 1D, 2D and 3D. In 1D we can\naverage between nodes and cell centers. In higher dimensions, we may need to\naverage between nodes, cell centers, faces and edges. For this example we\ndescribe the averaging operator from faces to cell centers in 1D, 2D and 3D.\n\n\n"
      ]
    },
    {
      "cell_type": "code",
      "execution_count": null,
      "metadata": {
        "collapsed": false
      },
      "outputs": [],
      "source": [
        "# Construct uniform meshes in 1D, 2D and 3D\nh = 10 * np.ones(10)\nmesh1D = TensorMesh([h], x0=\"C\")\nmesh2D = TensorMesh([h, h], x0=\"CC\")\nmesh3D = TensorMesh([h, h, h], x0=\"CCC\")\n\n# Create averaging operators\nA1 = mesh1D.aveF2CC  # Averages faces (nodes in 1D) to centers\nA2 = mesh2D.aveF2CC  # Averages from x and y faces to centers\nA3 = mesh3D.aveF2CC  # Averages from x, y and z faces to centers\n\n# Plot sparse representation\nfig = plt.figure(figsize=(7, 8))\nax1 = fig.add_axes([0.37, 0.72, 0.2, 0.2])\nax1.spy(A1, markersize=2.5)\nax1.set_title(\"Faces to centers in 1D\", pad=17)\n\nax2 = fig.add_axes([0.17, 0.42, 0.6, 0.22])\nax2.spy(A2, markersize=1)\nax2.set_title(\"Faces to centers in 2D\", pad=17)\n\nax3 = fig.add_axes([0.05, 0, 0.93, 0.4])\nax3.spy(A3, markersize=0.5)\nax3.set_title(\"Faces to centers in 3D\", pad=17)\n\nfig.show()\n\n# Print some properties\nprint(\"\\n For 1D mesh:\")\nprint(\"- Number of cells:\", str(mesh1D.nC))\nprint(\"- Number of faces:\", str(mesh1D.nF))\nprint(\"- Dimensions of operator:\", str(mesh1D.nC), \"x\", str(mesh1D.nF))\nprint(\"- Number of non-zero elements:\", str(A1.nnz), \"\\n\")\n\nprint(\"For 2D mesh:\")\nprint(\"- Number of cells:\", str(mesh2D.nC))\nprint(\"- Number of faces:\", str(mesh2D.nF))\nprint(\"- Dimensions of operator:\", str(mesh2D.nC), \"x\", str(mesh2D.nF))\nprint(\"- Number of non-zero elements:\", str(A2.nnz), \"\\n\")\n\nprint(\"For 3D mesh:\")\nprint(\"- Number of cells:\", str(mesh3D.nC))\nprint(\"- Number of faces:\", str(mesh3D.nF))\nprint(\"- Dimensions of operator:\", str(mesh3D.nC), \"x\", str(mesh3D.nF))\nprint(\"- Number of non-zero elements:\", str(A3.nnz))"
      ]
    },
    {
      "cell_type": "markdown",
      "metadata": {},
      "source": [
        "## Discontinuous Functions and the Transpose\n\nHere we show the effects of applying averaging operators to discontinuous\nfunctions. We will see that averaging smears the function at\ndiscontinuities.\n\nThe transpose of an averaging operator is also an\naveraging operator. For example, we can average from cell centers to faces\nby taking the transpose of operator that averages from faces to cell centers.\nNote that values on the boundaries are not accurate when applying the\ntranspose as an averaging operator. This is also true for staggered grids.\n\n\n"
      ]
    },
    {
      "cell_type": "code",
      "execution_count": null,
      "metadata": {
        "collapsed": false
      },
      "outputs": [],
      "source": [
        "# Create mesh and obtain averaging operators\nh = 2 * np.ones(50)\nmesh = TensorMesh([h, h], x0=\"CC\")\n\nA2 = mesh.aveCC2F  # cell centers to faces\nA3 = mesh.aveN2CC  # nodes to cell centers\nA4 = mesh.aveF2CC  # faces to cell centers\n\n# Create a variable on cell centers\nv = 100.0 * np.ones(mesh.nC)\nxy = mesh.gridCC\nv[(xy[:, 1] > 0)] = 0.0\nv[(xy[:, 1] < -10.0) & (xy[:, 0] > -10.0) & (xy[:, 0] < 10.0)] = 50.0\n\nfig = plt.figure(figsize=(10, 10))\nax1 = fig.add_subplot(221)\nmesh.plot_image(v, ax=ax1)\nax1.set_title(\"Variable at cell centers\")\n\n# Apply cell centers to faces averaging\nax2 = fig.add_subplot(222)\nmesh.plot_image(A2 * v, ax=ax2, v_type=\"F\")\nax2.set_title(\"Cell centers to faces\")\n\n# Use the transpose to go from cell centers to nodes\nax3 = fig.add_subplot(223)\nmesh.plot_image(A3.T * v, ax=ax3, v_type=\"N\")\nax3.set_title(\"Cell centers to nodes using transpose\")\n\n# Use the transpose to go from cell centers to faces\nax4 = fig.add_subplot(224)\nmesh.plot_image(A4.T * v, ax=ax4, v_type=\"F\")\nax4.set_title(\"Cell centers to faces using transpose\")\n\nfig.show()"
      ]
    }
  ],
  "metadata": {
    "kernelspec": {
      "display_name": "Python 3",
      "language": "python",
      "name": "python3"
    },
    "language_info": {
      "codemirror_mode": {
        "name": "ipython",
        "version": 3
      },
      "file_extension": ".py",
      "mimetype": "text/x-python",
      "name": "python",
      "nbconvert_exporter": "python",
      "pygments_lexer": "ipython3",
      "version": "3.10.11"
    }
  },
  "nbformat": 4,
  "nbformat_minor": 0
}