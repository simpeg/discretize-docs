{
  "cells": [
    {
      "cell_type": "code",
      "execution_count": null,
      "metadata": {
        "collapsed": false
      },
      "outputs": [],
      "source": [
        "%matplotlib inline"
      ]
    },
    {
      "cell_type": "markdown",
      "metadata": {},
      "source": [
        "\n# Plot Mirrored Cylindrically Symmetric Model\n\nHere, we demonstrate plotting a model on a cylindrically\nsymmetric mesh with the plotting symmetric about x=0.\n"
      ]
    },
    {
      "cell_type": "code",
      "execution_count": null,
      "metadata": {
        "collapsed": false
      },
      "outputs": [],
      "source": [
        "import numpy as np\nimport matplotlib.pyplot as plt\nimport discretize\n\n\ndef run(plotIt=True):\n\n    sig_halfspace = 1e-6\n    sig_sphere = 1e0\n    sig_air = 1e-8\n\n    sphere_z = -50.0\n    sphere_radius = 30.0\n\n    # x-direction\n    cs = 1\n    nc = np.ceil(2.5 * (-(sphere_z - sphere_radius)) / cs)\n\n    # define a mesh\n    mesh = discretize.CylMesh([[(cs, nc)], 1, [(cs, nc)]], x0=\"00C\")\n\n    # Put the model on the mesh\n    sigma = sig_air * np.ones(mesh.nC)  # start with air cells\n    sigma[mesh.gridCC[:, 2] < 0.0] = sig_halfspace  # cells below the earth\n\n    # indices of the sphere\n    sphere_ind = (\n        mesh.gridCC[:, 0] ** 2 + (mesh.gridCC[:, 2] - sphere_z) ** 2\n    ) <= sphere_radius ** 2\n    sigma[sphere_ind] = sig_sphere  # sphere\n\n    if not plotIt:\n        return\n\n    # Plot a cross section through the mesh\n    fig, ax = plt.subplots(2, 1)\n    # Set a nice colormap!\n    plt.set_cmap(plt.get_cmap(\"viridis\"))\n    plt.colorbar(mesh.plotImage(np.log10(sigma), ax=ax[0])[0], ax=ax[0])\n    ax[0].set_title(\"mirror = False\")\n    ax[0].axis(\"equal\")\n    ax[0].set_xlim([-200.0, 200.0])\n\n    plt.colorbar(mesh.plotImage(np.log10(sigma), ax=ax[1], mirror=True)[0], ax=ax[1])\n    ax[1].set_title(\"mirror = True\")\n    ax[1].axis(\"equal\")\n    ax[1].set_xlim([-200.0, 200.0])\n\n    plt.tight_layout()\n\n\nif __name__ == \"__main__\":\n    run()\n    plt.show()"
      ]
    }
  ],
  "metadata": {
    "kernelspec": {
      "display_name": "Python 3",
      "language": "python",
      "name": "python3"
    },
    "language_info": {
      "codemirror_mode": {
        "name": "ipython",
        "version": 3
      },
      "file_extension": ".py",
      "mimetype": "text/x-python",
      "name": "python",
      "nbconvert_exporter": "python",
      "pygments_lexer": "ipython3",
      "version": "3.8.5"
    }
  },
  "nbformat": 4,
  "nbformat_minor": 0
}