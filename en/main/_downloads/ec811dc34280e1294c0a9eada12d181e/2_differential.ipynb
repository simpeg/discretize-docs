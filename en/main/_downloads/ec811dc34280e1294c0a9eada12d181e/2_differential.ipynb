{
  "cells": [
    {
      "cell_type": "code",
      "execution_count": null,
      "metadata": {
        "collapsed": false
      },
      "outputs": [],
      "source": [
        "%matplotlib inline"
      ]
    },
    {
      "cell_type": "markdown",
      "metadata": {},
      "source": [
        "\n# Differential Operators\n\nFor discretized quantities living on a mesh, sparse matricies can be used to\napproximate the following differential operators:\n\n    - gradient: $\\nabla \\phi$\n    - divergence: $\\nabla \\cdot \\mathbf{v}$\n    - curl: $\\nabla \\times \\mathbf{v}$\n    - scalar Laplacian: $\\Delta \\mathbf{v}$\n\nNumerical differential operators exist for 1D, 2D and 3D meshes. For each mesh\nclass (*Tensor mesh*, *Tree mesh*, *Curvilinear mesh*), the set of numerical\ndifferential operators are properties that are only constructed when called.\n\nHere we demonstrate:\n\n    - How to construct and apply numerical differential operators\n    - Mapping and dimensions\n    - Applications for the transpose\n"
      ]
    },
    {
      "cell_type": "markdown",
      "metadata": {},
      "source": [
        "## Import Packages\n\nHere we import the packages required for this tutorial.\n\n\n"
      ]
    },
    {
      "cell_type": "code",
      "execution_count": null,
      "metadata": {
        "collapsed": false
      },
      "outputs": [],
      "source": [
        "from discretize import TensorMesh, TreeMesh\nimport matplotlib.pyplot as plt\nimport numpy as np\n\n# sphinx_gallery_thumbnail_number = 2"
      ]
    },
    {
      "cell_type": "markdown",
      "metadata": {},
      "source": [
        "## 1D Example\n\nHere we compute a scalar function on cell nodes and differentiate with\nrespect to x. We then compute the analytic derivative of function to validate\nthe numerical differentiation.\n\n\n"
      ]
    },
    {
      "cell_type": "code",
      "execution_count": null,
      "metadata": {
        "collapsed": false
      },
      "outputs": [],
      "source": [
        "# Create a uniform grid\nh = np.ones(20)\nmesh = TensorMesh([h], \"C\")\n\n# Get node and cell center locations\nx_nodes = mesh.vectorNx\nx_centers = mesh.vectorCCx\n\n# Compute function on nodes and derivative at cell centers\nv = np.exp(-(x_nodes**2) / 4**2)\ndvdx = -(2 * x_centers / 4**2) * np.exp(-(x_centers**2) / 4**2)\n\n# Derivative in x (gradient in 1D) from nodes to cell centers\nG = mesh.nodalGrad\ndvdx_approx = G * v\n\n# Compare\nfig = plt.figure(figsize=(12, 4))\nax1 = fig.add_axes([0.03, 0.01, 0.3, 0.89])\nax1.spy(G, markersize=5)\nax1.set_title(\"Sparse representation of G\", pad=10)\n\nax2 = fig.add_axes([0.4, 0.06, 0.55, 0.85])\nax2.plot(x_nodes, v, \"b-\", x_centers, dvdx, \"r-\", x_centers, dvdx_approx, \"ko\")\nax2.set_title(\"Comparison plot\")\nax2.legend((\"function\", \"analytic derivative\", \"numeric derivative\"))\n\nfig.show()"
      ]
    },
    {
      "cell_type": "markdown",
      "metadata": {},
      "source": [
        "## Mapping and Dimensions\n\nWhen discretizing and solving differential equations, it is\nnatural for certain quantities to be defined at particular locations on the\nmesh; e.g.:\n\n   - Scalar quantities on nodes or at cell centers\n   - Vector quantities on cell edges or on cell faces\n\nAs such, numerical differential operators frequently map from one part of\nthe mesh to another. For example, the gradient acts on a scalar quantity\nan results in a vector quantity. As a result, the numerical gradient\noperator may map from nodes to edges or from cell centers to faces.\n\nHere we explore the dimensions of the gradient, divergence and curl\noperators for a 3D tensor mesh. This can be extended to other mesh types.\n\n\n"
      ]
    },
    {
      "cell_type": "code",
      "execution_count": null,
      "metadata": {
        "collapsed": false
      },
      "outputs": [],
      "source": [
        "# Create a uniform grid\nh = np.ones(20)\nmesh = TensorMesh([h, h, h], \"CCC\")\n\n# Get differential operators\nGRAD = mesh.nodalGrad  # Gradient from nodes to edges\nDIV = mesh.faceDiv  # Divergence from faces to cell centers\nCURL = mesh.edgeCurl  # Curl edges to cell centers\n\n\nfig = plt.figure(figsize=(9, 8))\n\nax1 = fig.add_axes([0.07, 0, 0.20, 0.7])\nax1.spy(GRAD, markersize=0.5)\nax1.set_title(\"Gradient (nodes to edges)\")\n\nax2 = fig.add_axes([0.345, 0.73, 0.59, 0.185])\nax2.spy(DIV, markersize=0.5)\nax2.set_title(\"Divergence (faces to centers)\", pad=20)\n\nax3 = fig.add_axes([0.31, 0.05, 0.67, 0.60])\nax3.spy(CURL, markersize=0.5)\nax3.set_title(\"Curl (edges to faces)\")\n\nfig.show()\n\n# Print some properties\nprint(\"\\n Gradient:\")\nprint(\"- Number of nodes:\", str(mesh.nN))\nprint(\"- Number of edges:\", str(mesh.nE))\nprint(\"- Dimensions of operator:\", str(mesh.nE), \"x\", str(mesh.nN))\nprint(\"- Number of non-zero elements:\", str(GRAD.nnz), \"\\n\")\n\nprint(\"Divergence:\")\nprint(\"- Number of faces:\", str(mesh.nF))\nprint(\"- Number of cells:\", str(mesh.nC))\nprint(\"- Dimensions of operator:\", str(mesh.nC), \"x\", str(mesh.nF))\nprint(\"- Number of non-zero elements:\", str(DIV.nnz), \"\\n\")\n\nprint(\"Curl:\")\nprint(\"- Number of faces:\", str(mesh.nF))\nprint(\"- Number of edges:\", str(mesh.nE))\nprint(\"- Dimensions of operator:\", str(mesh.nE), \"x\", str(mesh.nF))\nprint(\"- Number of non-zero elements:\", str(CURL.nnz))"
      ]
    },
    {
      "cell_type": "markdown",
      "metadata": {},
      "source": [
        "## 2D Example\n\nHere we apply the gradient, divergence and curl operators to a set of\nfunctions defined on a 2D tensor mesh. We then plot the results.\n\n\n"
      ]
    },
    {
      "cell_type": "code",
      "execution_count": null,
      "metadata": {
        "collapsed": false
      },
      "outputs": [],
      "source": [
        "# Create a uniform grid\nh = np.ones(20)\nmesh = TensorMesh([h, h], \"CC\")\n\n# Get differential operators\nGRAD = mesh.nodalGrad  # Gradient from nodes to edges\nDIV = mesh.faceDiv  # Divergence from faces to cell centers\nCURL = mesh.edgeCurl  # Curl edges to cell centers (goes to faces in 3D)\n\n# Evaluate gradient of a scalar function\nnodes = mesh.gridN\nu = np.exp(-(nodes[:, 0] ** 2 + nodes[:, 1] ** 2) / 4**2)\ngrad_u = GRAD * u\n\n# Evaluate divergence of a vector function in x and y\nfaces_x = mesh.gridFx\nfaces_y = mesh.gridFy\n\nvx = (faces_x[:, 0] / np.sqrt(np.sum(faces_x**2, axis=1))) * np.exp(\n    -(faces_x[:, 0] ** 2 + faces_x[:, 1] ** 2) / 6**2\n)\n\nvy = (faces_y[:, 1] / np.sqrt(np.sum(faces_y**2, axis=1))) * np.exp(\n    -(faces_y[:, 0] ** 2 + faces_y[:, 1] ** 2) / 6**2\n)\n\nv = np.r_[vx, vy]\ndiv_v = DIV * v\n\n# Evaluate curl of a vector function in x and y\nedges_x = mesh.gridEx\nedges_y = mesh.gridEy\n\nwx = (-edges_x[:, 1] / np.sqrt(np.sum(edges_x**2, axis=1))) * np.exp(\n    -(edges_x[:, 0] ** 2 + edges_x[:, 1] ** 2) / 6**2\n)\n\nwy = (edges_y[:, 0] / np.sqrt(np.sum(edges_y**2, axis=1))) * np.exp(\n    -(edges_y[:, 0] ** 2 + edges_y[:, 1] ** 2) / 6**2\n)\n\nw = np.r_[wx, wy]\ncurl_w = CURL * w\n\n# Plot Gradient of u\nfig = plt.figure(figsize=(10, 5))\n\nax1 = fig.add_subplot(121)\nmesh.plotImage(u, ax=ax1, v_type=\"N\")\nax1.set_title(\"u at cell centers\")\n\nax2 = fig.add_subplot(122)\nmesh.plotImage(\n    grad_u, ax=ax2, v_type=\"E\", view=\"vec\", stream_opts={\"color\": \"w\", \"density\": 1.0}\n)\nax2.set_title(\"gradient of u on edges\")\n\nfig.show()\n\n# Plot divergence of v\nfig = plt.figure(figsize=(10, 5))\n\nax1 = fig.add_subplot(121)\nmesh.plotImage(\n    v, ax=ax1, v_type=\"F\", view=\"vec\", stream_opts={\"color\": \"w\", \"density\": 1.0}\n)\nax1.set_title(\"v at cell faces\")\n\nax2 = fig.add_subplot(122)\nmesh.plotImage(div_v, ax=ax2)\nax2.set_title(\"divergence of v at cell centers\")\n\nfig.show()\n\n# Plot curl of w\nfig = plt.figure(figsize=(10, 5))\n\nax1 = fig.add_subplot(121)\nmesh.plotImage(\n    w, ax=ax1, v_type=\"E\", view=\"vec\", stream_opts={\"color\": \"w\", \"density\": 1.0}\n)\nax1.set_title(\"w at cell edges\")\n\nax2 = fig.add_subplot(122)\nmesh.plotImage(curl_w, ax=ax2)\nax2.set_title(\"curl of w at cell centers\")\n\nfig.show()"
      ]
    },
    {
      "cell_type": "markdown",
      "metadata": {},
      "source": [
        "## Tree Mesh Divergence\n\nFor a tree mesh, there needs to be special attention taken for the hanging\nfaces to achieve second order convergence for the divergence operator.\nAlthough the divergence cannot be constructed through Kronecker product\noperations, the initial steps are exactly the same for calculating the\nstencil, volumes, and areas. This yields a divergence defined for every\ncell in the mesh using all faces. There is, however, redundant information\nwhen hanging faces are included.\n\n\n"
      ]
    },
    {
      "cell_type": "code",
      "execution_count": null,
      "metadata": {
        "collapsed": false
      },
      "outputs": [],
      "source": [
        "mesh = TreeMesh([[(1, 16)], [(1, 16)]], levels=4)\nmesh.insert_cells(np.array([5.0, 5.0]), np.array([3]))\nmesh.number()\n\nfig = plt.figure(figsize=(10, 10))\n\nax1 = fig.add_subplot(211)\n\nmesh.plotGrid(centers=True, nodes=False, ax=ax1)\nax1.axis(\"off\")\nax1.set_title(\"Simple QuadTree Mesh\")\nax1.set_xlim([-1, 17])\nax1.set_ylim([-1, 17])\n\nfor ii, loc in zip(range(mesh.nC), mesh.gridCC):\n    ax1.text(loc[0] + 0.2, loc[1], \"{0:d}\".format(ii), color=\"r\")\n\nax1.plot(mesh.gridFx[:, 0], mesh.gridFx[:, 1], \"g>\")\nfor ii, loc in zip(range(mesh.nFx), mesh.gridFx):\n    ax1.text(loc[0] + 0.2, loc[1], \"{0:d}\".format(ii), color=\"g\")\n\nax1.plot(mesh.gridFy[:, 0], mesh.gridFy[:, 1], \"m^\")\nfor ii, loc in zip(range(mesh.nFy), mesh.gridFy):\n    ax1.text(loc[0] + 0.2, loc[1] + 0.2, \"{0:d}\".format((ii + mesh.nFx)), color=\"m\")\n\nax2 = fig.add_subplot(212)\nax2.spy(mesh.faceDiv)\nax2.set_title(\"Face Divergence\")\nax2.set_ylabel(\"Cell Number\")\nax2.set_xlabel(\"Face Number\")"
      ]
    },
    {
      "cell_type": "markdown",
      "metadata": {},
      "source": [
        "## Vector Calculus Identities\n\nHere we show that vector calculus identities hold for the discrete\ndifferential operators. Namely that for a scalar quantity $\\phi$ and\na vector quantity $\\mathbf{v}$:\n\n\\begin{align}\\begin{align}\n    &\\nabla \\times (\\nabla \\phi ) = 0 \\\\\n    &\\nabla \\cdot (\\nabla \\times \\mathbf{v}) = 0\n    \\end{align}\\end{align}\n\n\nWe do this by computing the CURL*GRAD and DIV*CURL matricies. We then\nplot the sparse representations and show neither contain any non-zero\nentries; **e.g. each is just a matrix of zeros**.\n\n\n"
      ]
    },
    {
      "cell_type": "code",
      "execution_count": null,
      "metadata": {
        "collapsed": false
      },
      "outputs": [],
      "source": [
        "# Create a mesh\nh = 5 * np.ones(20)\nmesh = TensorMesh([h, h, h], \"CCC\")\n\n# Get operators\nGRAD = mesh.nodalGrad  # nodes to edges\nDIV = mesh.faceDiv  # faces to centers\nCURL = mesh.edgeCurl  # edges to faces\n\n# Plot\nfig = plt.figure(figsize=(11, 7))\n\nax1 = fig.add_axes([0.12, 0.1, 0.2, 0.8])\nax1.spy(CURL * GRAD, markersize=0.5)\nax1.set_title(\"CURL*GRAD\")\n\nax2 = fig.add_axes([0.35, 0.64, 0.6, 0.25])\nax2.spy(DIV * CURL, markersize=0.5)\nax2.set_title(\"DIV*CURL\", pad=20)"
      ]
    }
  ],
  "metadata": {
    "kernelspec": {
      "display_name": "Python 3",
      "language": "python",
      "name": "python3"
    },
    "language_info": {
      "codemirror_mode": {
        "name": "ipython",
        "version": 3
      },
      "file_extension": ".py",
      "mimetype": "text/x-python",
      "name": "python",
      "nbconvert_exporter": "python",
      "pygments_lexer": "ipython3",
      "version": "3.10.8"
    }
  },
  "nbformat": 4,
  "nbformat_minor": 0
}