{
  "cells": [
    {
      "cell_type": "markdown",
      "metadata": {},
      "source": [
        "\n\n# 3D Visualization with PyVista\n\nThe example demonstrates the how to use the VTK interface via the\n[pyvista library](http://docs.pyvista.org)_ .\nTo run this example, you will need to [install pyvista](http://docs.pyvista.org/getting-started/installation.html)_ .\n\n- contributed by [@banesullivan](https://github.com/banesullivan)\n\nUsing the inversion result from the example notebook\n[plot_laguna_del_maule_inversion.ipynb](http://docs.simpeg.xyz/content/examples/20-published/plot_laguna_del_maule_inversion.html)\n"
      ]
    },
    {
      "cell_type": "code",
      "execution_count": null,
      "metadata": {
        "collapsed": false
      },
      "outputs": [],
      "source": [
        "# sphinx_gallery_thumbnail_number = 2\nimport discretize\nimport pyvista as pv\nimport numpy as np\nimport pooch\n\n# Set a documentation friendly plotting theme\npv.set_plot_theme(\"document\")\n\nprint(\"PyVista Version: {}\".format(pv.__version__))"
      ]
    },
    {
      "cell_type": "markdown",
      "metadata": {},
      "source": [
        "## Download and load data\n\nIn the following we load the :code:`mesh` and :code:`Lpout` that you would\nget from running the laguna-del-maule inversion notebook as well as some of\nthe raw data for the topography surface and gravity observations.\n\n"
      ]
    },
    {
      "cell_type": "code",
      "execution_count": null,
      "metadata": {
        "collapsed": false
      },
      "outputs": [],
      "source": [
        "# Download Topography and Observed gravity data\ndata_url = \"https://storage.googleapis.com/simpeg/Chile_GRAV_4_Miller/Chile_GRAV_4_Miller.tar.gz\"\ndownloaded_items = pooch.retrieve(\n    data_url,\n    known_hash=\"28022bf8802eeb4892cac6c3efd1eb4275c84003a6723c047fe5e1738a66ea04\",\n    processor=pooch.Untar(),\n)\ndata_path = next(filter(lambda f: f.endswith(\"LdM_grav_obs.grv\"), downloaded_items))\ntopo_path = next(filter(lambda f: f.endswith(\"LdM_topo.topo\"), downloaded_items))\n\nmodel_url = \"https://storage.googleapis.com/simpeg/laguna_del_maule_slicer.tar.gz\"\ndownloaded_items = pooch.retrieve(\n    model_url,\n    known_hash=\"107293bfdeb77b314f4cb451a24c2c93a55aae40da28f43cf3c075d71acfb957\",\n    processor=pooch.Untar(),\n)\nmesh_path = next(filter(lambda f: f.endswith(\"mesh.json\"), downloaded_items))\nmodel_path = next(filter(lambda f: f.endswith(\"Lpout.npy\"), downloaded_items))\n\n# # Load the mesh/data\nmesh = discretize.load_mesh(mesh_path)\nmodels = {\"Lpout\": np.load(model_path)}"
      ]
    },
    {
      "cell_type": "markdown",
      "metadata": {},
      "source": [
        "## Create PyVista data objects\n\nHere we start making PyVista data objects of all the spatially referenced\ndata.\n\n"
      ]
    },
    {
      "cell_type": "code",
      "execution_count": null,
      "metadata": {
        "collapsed": false
      },
      "outputs": [],
      "source": [
        "# Get the PyVista dataset of the inverted model\ndataset = mesh.to_vtk(models)\ndataset.set_active_scalars(\"Lpout\")"
      ]
    },
    {
      "cell_type": "code",
      "execution_count": null,
      "metadata": {
        "collapsed": false
      },
      "outputs": [],
      "source": [
        "# Load topography points from text file as XYZ numpy array\ntopo_pts = np.loadtxt(topo_path, skiprows=1)\n# Create the topography points and apply an elevation filter\ntopo = pv.PolyData(topo_pts).delaunay_2d().elevation()"
      ]
    },
    {
      "cell_type": "code",
      "execution_count": null,
      "metadata": {
        "collapsed": false
      },
      "outputs": [],
      "source": [
        "# Load the gravity data from text file as XYZ+attributes numpy array\ngrav_data = np.loadtxt(data_path, skiprows=1)\nprint(\"gravity file shape: \", grav_data.shape)\n# Use the points to create PolyData\ngrav = pv.PolyData(grav_data[:, 0:3])\n# Add the data arrays\ngrav.point_data[\"comp-1\"] = grav_data[:, 3]\ngrav.point_data[\"comp-2\"] = grav_data[:, 4]\ngrav.set_active_scalars(\"comp-1\")"
      ]
    },
    {
      "cell_type": "markdown",
      "metadata": {},
      "source": [
        "Plot the topographic surface and the gravity data\n\n"
      ]
    },
    {
      "cell_type": "code",
      "execution_count": null,
      "metadata": {
        "collapsed": false
      },
      "outputs": [],
      "source": [
        "p = pv.Plotter()\np.add_mesh(topo, color=\"grey\")\np.add_mesh(\n    grav,\n    point_size=15,\n    render_points_as_spheres=True,\n    scalar_bar_args={\"title\": \"Observed Gravtiy Data\"},\n)\n# Use a non-phot-realistic shading technique to show topographic relief\np.enable_eye_dome_lighting()\np.show(window_size=[1024, 768])"
      ]
    },
    {
      "cell_type": "markdown",
      "metadata": {},
      "source": [
        "## Visualize Using PyVista\n\nHere we visualize all the data in 3D!\n\n"
      ]
    },
    {
      "cell_type": "code",
      "execution_count": null,
      "metadata": {
        "collapsed": false
      },
      "outputs": [],
      "source": [
        "# Create display parameters for inverted model\ndparams = dict(\n    show_edges=False,\n    cmap=\"bwr\",\n    clim=[-0.6, 0.6],\n)\n\n# Apply a threshold filter to remove topography\n#  no arguments will remove the NaN values\ndataset_t = dataset.threshold()\n\n# Extract volumetric threshold\nthreshed = dataset_t.threshold(-0.2, invert=True)\n\n# Create the rendering scene\np = pv.Plotter()\n# add a grid axes\np.show_grid()\n\n# Add spatially referenced data to the scene\np.add_mesh(dataset_t.slice(\"x\"), **dparams)\np.add_mesh(dataset_t.slice(\"y\"), **dparams)\np.add_mesh(threshed, **dparams)\np.add_mesh(\n    topo,\n    opacity=0.75,\n    color=\"grey\",\n    # cmap='gist_earth', clim=[1.7e+03, 3.104e+03],\n)\np.add_mesh(grav, cmap=\"viridis\", point_size=15, render_points_as_spheres=True)\n\n# Here is a nice camera position we manually found:\ncpos = [\n    (395020.7332989303, 6039949.0452080015, 20387.583125699253),\n    (364528.3152860675, 6008839.363092581, -3776.318305935185),\n    (-0.3423732500124074, -0.34364514928896667, 0.8744647328772646),\n]\np.camera_position = cpos\n\n\n# Render the scene!\np.show(window_size=[1024, 768])"
      ]
    }
  ],
  "metadata": {
    "kernelspec": {
      "display_name": "Python 3",
      "language": "python",
      "name": "python3"
    },
    "language_info": {
      "codemirror_mode": {
        "name": "ipython",
        "version": 3
      },
      "file_extension": ".py",
      "mimetype": "text/x-python",
      "name": "python",
      "nbconvert_exporter": "python",
      "pygments_lexer": "ipython3",
      "version": "3.11.9"
    }
  },
  "nbformat": 4,
  "nbformat_minor": 0
}