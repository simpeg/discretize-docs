{
  "cells": [
    {
      "cell_type": "code",
      "execution_count": null,
      "metadata": {
        "collapsed": false
      },
      "outputs": [],
      "source": [
        "%matplotlib inline"
      ]
    },
    {
      "cell_type": "markdown",
      "metadata": {},
      "source": [
        "\n# Tree Meshes\n\nCompared to tensor meshes, tree meshes are able to provide higher levels\nof discretization in certain regions while reducing the total number of\ncells. Tree meshes belong to the class (:class:`~discretize.TreeMesh`).\nTree meshes can be defined in 2 or 3 dimensions. Here we demonstrate:\n\n    - How to create basic tree meshes in 2D and 3D\n    - Strategies for local mesh refinement\n    - How to plot tree meshes\n    - How to extract properties from tree meshes\n\nTo create a tree mesh, we first define the base tensor mesh (a mesh\ncomprised entirely of the smallest cells). Next we choose the level of\ndiscretization around certain points or within certain regions. When\ncreating tree meshes, we must remember certain rules:\n\n    - The number of base mesh cells in x, y and z must all be powers of 2\n    - We cannot refine the mesh to create cells smaller than those defining the base mesh\n    - The range of cell sizes in the tree mesh depends on the number of base mesh cells in x, y and z\n    \n"
      ]
    },
    {
      "cell_type": "markdown",
      "metadata": {},
      "source": [
        "## Import Packages\n\nHere we import the packages required for this tutorial.\n\n\n"
      ]
    },
    {
      "cell_type": "code",
      "execution_count": null,
      "metadata": {
        "collapsed": false
      },
      "outputs": [],
      "source": [
        "from discretize import TreeMesh\nfrom discretize.utils import mkvc, refine_tree_xyz\nimport matplotlib.pyplot as plt\nimport numpy as np\n\n# sphinx_gallery_thumbnail_number = 4"
      ]
    },
    {
      "cell_type": "markdown",
      "metadata": {},
      "source": [
        "## Basic Example\n\nHere we demonstrate the basic two step process for creating a 2D tree mesh\n(QuadTree mesh). The region of highest discretization if defined within a\nrectangular box. We use the keyword argument *octree_levels* to define the\nrate of cell width increase outside the box.\n\n\n"
      ]
    },
    {
      "cell_type": "code",
      "execution_count": null,
      "metadata": {
        "collapsed": false
      },
      "outputs": [],
      "source": [
        "dh = 5  # minimum cell width (base mesh cell width)\nnbc = 64  # number of base mesh cells in x\n\n# Define base mesh (domain and finest discretization)\nh = dh * np.ones(nbc)\nmesh = TreeMesh([h, h])\n\n# Define corner points for rectangular box\nxp, yp = np.meshgrid([120.0, 240.0], [80.0, 160.0])\nxy = np.c_[mkvc(xp), mkvc(yp)]  # mkvc creates vectors\n\n# Discretize to finest cell size within rectangular box\nmesh = refine_tree_xyz(mesh, xy, octree_levels=[2, 2], method=\"box\", finalize=False)\n\nmesh.finalize()  # Must finalize tree mesh before use\n\nmesh.plotGrid(show_it=True)"
      ]
    },
    {
      "cell_type": "markdown",
      "metadata": {},
      "source": [
        "## Intermediate Example and Plotting\n\nThe widths of the base mesh cells do not need to be the same in x and y.\nHowever the number of base mesh cells in x and y each needs to be a power of 2.\n\nHere we show topography-based mesh refinement and refinement about a\nset of points. We also show some aspect of customizing plots. We use the\nkeyword argument *octree_levels* to define the rate of cell width increase\nrelative to our surface and the set of discrete points about which we are\nrefining.\n\n\n"
      ]
    },
    {
      "cell_type": "code",
      "execution_count": null,
      "metadata": {
        "collapsed": false
      },
      "outputs": [],
      "source": [
        "dx = 5  # minimum cell width (base mesh cell width) in x\ndy = 5  # minimum cell width (base mesh cell width) in y\n\nx_length = 300.0  # domain width in x\ny_length = 300.0  # domain width in y\n\n# Compute number of base mesh cells required in x and y\nnbcx = 2 ** int(np.round(np.log(x_length / dx) / np.log(2.0)))\nnbcy = 2 ** int(np.round(np.log(y_length / dy) / np.log(2.0)))\n\n# Define the base mesh\nhx = [(dx, nbcx)]\nhy = [(dy, nbcy)]\nmesh = TreeMesh([hx, hy], x0=\"CC\")\n\n# Refine surface topography\nxx = mesh.vectorNx\nyy = -3 * np.exp((xx ** 2) / 100 ** 2) + 50.0\npts = np.c_[mkvc(xx), mkvc(yy)]\nmesh = refine_tree_xyz(\n    mesh, pts, octree_levels=[2, 2], method=\"surface\", finalize=False\n)\n\n# Refine mesh near points\nxx = np.array([0.0, 10.0, 0.0, -10.0])\nyy = np.array([-20.0, -10.0, 0.0, -10])\npts = np.c_[mkvc(xx), mkvc(yy)]\nmesh = refine_tree_xyz(mesh, pts, octree_levels=[2, 2], method=\"radial\", finalize=False)\n\nmesh.finalize()\n\n# We can apply the plotGrid method and output to a specified axes object\nfig = plt.figure(figsize=(6, 6))\nax = fig.add_subplot(111)\nmesh.plotGrid(ax=ax)\nax.set_xbound(mesh.x0[0], mesh.x0[0] + np.sum(mesh.hx))\nax.set_ybound(mesh.x0[1], mesh.x0[1] + np.sum(mesh.hy))\nax.set_title(\"QuadTree Mesh\")"
      ]
    },
    {
      "cell_type": "markdown",
      "metadata": {},
      "source": [
        "## Extracting Mesh Properties\n\nOnce the mesh is created, you may want to extract certain properties. Here,\nwe show some properties that can be extracted from a QuadTree mesh.\n\n\n"
      ]
    },
    {
      "cell_type": "code",
      "execution_count": null,
      "metadata": {
        "collapsed": false
      },
      "outputs": [],
      "source": [
        "dx = 5  # minimum cell width (base mesh cell width) in x\ndy = 5  # minimum cell width (base mesh cell width) in y\n\nx_length = 300.0  # domain width in x\ny_length = 300.0  # domain width in y\n\n# Compute number of base mesh cells required in x and y\nnbcx = 2 ** int(np.round(np.log(x_length / dx) / np.log(2.0)))\nnbcy = 2 ** int(np.round(np.log(y_length / dy) / np.log(2.0)))\n\n# Define the base mesh\nhx = [(dx, nbcx)]\nhy = [(dy, nbcy)]\nmesh = TreeMesh([hx, hy], x0=\"CC\")\n\n# Refine surface topography\nxx = mesh.vectorNx\nyy = -3 * np.exp((xx ** 2) / 100 ** 2) + 50.0\npts = np.c_[mkvc(xx), mkvc(yy)]\nmesh = refine_tree_xyz(\n    mesh, pts, octree_levels=[2, 2], method=\"surface\", finalize=False\n)\n\n# Refine near points\nxx = np.array([0.0, 10.0, 0.0, -10.0])\nyy = np.array([-20.0, -10.0, 0.0, -10])\npts = np.c_[mkvc(xx), mkvc(yy)]\nmesh = refine_tree_xyz(mesh, pts, octree_levels=[2, 2], method=\"radial\", finalize=False)\n\nmesh.finalize()\n\n# The bottom west corner\nx0 = mesh.x0\n\n# The total number of cells\nnC = mesh.nC\n\n# An (nC, 2) array containing the cell-center locations\ncc = mesh.gridCC\n\n# A boolean array specifying which cells lie on the boundary\nbInd = mesh.cellBoundaryInd\n\n# The cell areas (2D \"volume\")\ns = mesh.vol\n\nfig = plt.figure(figsize=(6, 6))\nax = fig.add_subplot(111)\nmesh.plotImage(np.log10(s), grid=True, ax=ax)\nax.set_xbound(mesh.x0[0], mesh.x0[0] + np.sum(mesh.hx))\nax.set_ybound(mesh.x0[1], mesh.x0[1] + np.sum(mesh.hy))\nax.set_title(\"Log of Cell Areas\")"
      ]
    },
    {
      "cell_type": "markdown",
      "metadata": {},
      "source": [
        "## 3D Example\n\nHere we show how the same approach can be used to create and extract\nproperties from a 3D tree mesh.\n\n\n"
      ]
    },
    {
      "cell_type": "code",
      "execution_count": null,
      "metadata": {
        "collapsed": false
      },
      "outputs": [],
      "source": [
        "dx = 5  # minimum cell width (base mesh cell width) in x\ndy = 5  # minimum cell width (base mesh cell width) in y\ndz = 5  # minimum cell width (base mesh cell width) in z\n\nx_length = 300.0  # domain width in x\ny_length = 300.0  # domain width in y\nz_length = 300.0  # domain width in y\n\n# Compute number of base mesh cells required in x and y\nnbcx = 2 ** int(np.round(np.log(x_length / dx) / np.log(2.0)))\nnbcy = 2 ** int(np.round(np.log(y_length / dy) / np.log(2.0)))\nnbcz = 2 ** int(np.round(np.log(z_length / dz) / np.log(2.0)))\n\n# Define the base mesh\nhx = [(dx, nbcx)]\nhy = [(dy, nbcy)]\nhz = [(dz, nbcz)]\nmesh = TreeMesh([hx, hy, hz], x0=\"CCC\")\n\n# Refine surface topography\n[xx, yy] = np.meshgrid(mesh.vectorNx, mesh.vectorNy)\nzz = -3 * np.exp((xx ** 2 + yy ** 2) / 100 ** 2) + 50.0\npts = np.c_[mkvc(xx), mkvc(yy), mkvc(zz)]\nmesh = refine_tree_xyz(\n    mesh, pts, octree_levels=[2, 2], method=\"surface\", finalize=False\n)\n\n# Refine box\nxp, yp, zp = np.meshgrid([-40.0, 40.0], [-40.0, 40.0], [-60.0, 0.0])\nxyz = np.c_[mkvc(xp), mkvc(yp), mkvc(zp)]\n\nmesh = refine_tree_xyz(mesh, xyz, octree_levels=[2, 2], method=\"box\", finalize=False)\n\nmesh.finalize()\n\n# The bottom west corner\nx0 = mesh.x0\n\n# The total number of cells\nnC = mesh.nC\n\n# An (nC, 2) array containing the cell-center locations\ncc = mesh.gridCC\n\n# A boolean array specifying which cells lie on the boundary\nbInd = mesh.cellBoundaryInd\n\n# Cell volumes\nv = mesh.vol\n\nfig = plt.figure(figsize=(6, 6))\nax = fig.add_subplot(111)\nmesh.plotSlice(np.log10(v), normal=\"Y\", ax=ax, ind=int(mesh.hy.size / 2), grid=True)\nax.set_title(\"Cell Log-Volumes at Y = 0 m\")"
      ]
    }
  ],
  "metadata": {
    "kernelspec": {
      "display_name": "Python 3",
      "language": "python",
      "name": "python3"
    },
    "language_info": {
      "codemirror_mode": {
        "name": "ipython",
        "version": 3
      },
      "file_extension": ".py",
      "mimetype": "text/x-python",
      "name": "python",
      "nbconvert_exporter": "python",
      "pygments_lexer": "ipython3",
      "version": "3.8.13"
    }
  },
  "nbformat": 4,
  "nbformat_minor": 0
}