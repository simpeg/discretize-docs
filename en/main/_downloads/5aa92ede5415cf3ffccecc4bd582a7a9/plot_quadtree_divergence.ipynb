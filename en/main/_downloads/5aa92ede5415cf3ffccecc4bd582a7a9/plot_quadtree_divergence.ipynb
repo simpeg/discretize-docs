{
  "cells": [
    {
      "cell_type": "code",
      "execution_count": null,
      "metadata": {
        "collapsed": false
      },
      "outputs": [],
      "source": [
        "%matplotlib inline"
      ]
    },
    {
      "cell_type": "markdown",
      "metadata": {},
      "source": [
        "\n# QuadTree: FaceDiv\n\nFor a tree mesh, there needs to be special attention taken for the hanging\nfaces to achieve second order convergence for the divergence operator.\nAlthough the divergence cannot be constructed through Kronecker product\noperations, the initial steps are exactly the same for calculating the\nstencil, volumes, and areas. This yields a divergence defined for every\ncell in the mesh using all faces. There is, however, redundant information\nwhen hanging faces are included.\n"
      ]
    },
    {
      "cell_type": "code",
      "execution_count": null,
      "metadata": {
        "collapsed": false
      },
      "outputs": [],
      "source": [
        "import discretize\nimport matplotlib.pyplot as plt\nimport numpy as np\n\n\ndef run(plotIt=True, n=60):\n\n    M = discretize.TreeMesh([[(1, 16)], [(1, 16)]], levels=4)\n    M.insert_cells(np.array([5.0, 5.0]), np.array([3]))\n    M.number()\n\n    if plotIt:\n        fig, axes = plt.subplots(2, 1, figsize=(10, 10))\n\n        M.plotGrid(centers=True, nodes=False, ax=axes[0])\n        axes[0].axis(\"off\")\n        axes[0].set_title(\"Simple QuadTree Mesh\")\n        axes[0].set_xlim([-1, 17])\n        axes[0].set_ylim([-1, 17])\n\n        for ii, loc in zip(range(M.nC), M.gridCC):\n            axes[0].text(loc[0] + 0.2, loc[1], \"{0:d}\".format(ii), color=\"r\")\n\n        axes[0].plot(M.gridFx[:, 0], M.gridFx[:, 1], \"g>\")\n        for ii, loc in zip(range(M.nFx), M.gridFx):\n            axes[0].text(loc[0] + 0.2, loc[1], \"{0:d}\".format(ii), color=\"g\")\n\n        axes[0].plot(M.gridFy[:, 0], M.gridFy[:, 1], \"m^\")\n        for ii, loc in zip(range(M.nFy), M.gridFy):\n            axes[0].text(\n                loc[0] + 0.2, loc[1] + 0.2, \"{0:d}\".format((ii + M.nFx)), color=\"m\"\n            )\n\n        axes[1].spy(M.faceDiv)\n        axes[1].set_title(\"Face Divergence\")\n        axes[1].set_ylabel(\"Cell Number\")\n        axes[1].set_xlabel(\"Face Number\")\n\n\nif __name__ == \"__main__\":\n    run()\n    plt.show()"
      ]
    }
  ],
  "metadata": {
    "kernelspec": {
      "display_name": "Python 3",
      "language": "python",
      "name": "python3"
    },
    "language_info": {
      "codemirror_mode": {
        "name": "ipython",
        "version": 3
      },
      "file_extension": ".py",
      "mimetype": "text/x-python",
      "name": "python",
      "nbconvert_exporter": "python",
      "pygments_lexer": "ipython3",
      "version": "3.8.5"
    }
  },
  "nbformat": 4,
  "nbformat_minor": 0
}